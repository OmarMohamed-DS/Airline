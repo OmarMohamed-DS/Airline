{
 "cells": [
  {
   "cell_type": "code",
   "execution_count": 1,
   "id": "580f353f",
   "metadata": {},
   "outputs": [],
   "source": [
    "## Import libraries\n",
    "import numpy as np\n",
    "import pandas as pd\n",
    "import matplotlib.pyplot as plt\n",
    "%matplotlib inline\n",
    "import seaborn as sns\n",
    "import plotly.express as px\n",
    "from sklearn.compose import ColumnTransformer\n",
    "from sklearn.pipeline import Pipeline\n",
    "from sklearn.model_selection import cross_validate\n",
    "from sklearn.preprocessing import OneHotEncoder \n",
    "from category_encoders import BinaryEncoder\n",
    "from sklearn.linear_model import LinearRegression\n",
    "from sklearn.preprocessing import StandardScaler"
   ]
  },
  {
   "cell_type": "code",
   "execution_count": 2,
   "id": "42006980",
   "metadata": {},
   "outputs": [],
   "source": [
    "train = pd.read_csv('Data_Train.csv')"
   ]
  },
  {
   "cell_type": "code",
   "execution_count": 3,
   "id": "b49dda61",
   "metadata": {},
   "outputs": [
    {
     "data": {
      "text/html": [
       "<div>\n",
       "<style scoped>\n",
       "    .dataframe tbody tr th:only-of-type {\n",
       "        vertical-align: middle;\n",
       "    }\n",
       "\n",
       "    .dataframe tbody tr th {\n",
       "        vertical-align: top;\n",
       "    }\n",
       "\n",
       "    .dataframe thead th {\n",
       "        text-align: right;\n",
       "    }\n",
       "</style>\n",
       "<table border=\"1\" class=\"dataframe\">\n",
       "  <thead>\n",
       "    <tr style=\"text-align: right;\">\n",
       "      <th></th>\n",
       "      <th>0</th>\n",
       "      <th>1</th>\n",
       "      <th>2</th>\n",
       "      <th>3</th>\n",
       "      <th>4</th>\n",
       "    </tr>\n",
       "  </thead>\n",
       "  <tbody>\n",
       "    <tr>\n",
       "      <th>Airline</th>\n",
       "      <td>IndiGo</td>\n",
       "      <td>Air India</td>\n",
       "      <td>Jet Airways</td>\n",
       "      <td>IndiGo</td>\n",
       "      <td>IndiGo</td>\n",
       "    </tr>\n",
       "    <tr>\n",
       "      <th>Date_of_Journey</th>\n",
       "      <td>24/03/2019</td>\n",
       "      <td>1/05/2019</td>\n",
       "      <td>9/06/2019</td>\n",
       "      <td>12/05/2019</td>\n",
       "      <td>01/03/2019</td>\n",
       "    </tr>\n",
       "    <tr>\n",
       "      <th>Source</th>\n",
       "      <td>Banglore</td>\n",
       "      <td>Kolkata</td>\n",
       "      <td>Delhi</td>\n",
       "      <td>Kolkata</td>\n",
       "      <td>Banglore</td>\n",
       "    </tr>\n",
       "    <tr>\n",
       "      <th>Destination</th>\n",
       "      <td>New Delhi</td>\n",
       "      <td>Banglore</td>\n",
       "      <td>Cochin</td>\n",
       "      <td>Banglore</td>\n",
       "      <td>New Delhi</td>\n",
       "    </tr>\n",
       "    <tr>\n",
       "      <th>Route</th>\n",
       "      <td>BLR → DEL</td>\n",
       "      <td>CCU → IXR → BBI → BLR</td>\n",
       "      <td>DEL → LKO → BOM → COK</td>\n",
       "      <td>CCU → NAG → BLR</td>\n",
       "      <td>BLR → NAG → DEL</td>\n",
       "    </tr>\n",
       "    <tr>\n",
       "      <th>Dep_Time</th>\n",
       "      <td>22:20</td>\n",
       "      <td>05:50</td>\n",
       "      <td>09:25</td>\n",
       "      <td>18:05</td>\n",
       "      <td>16:50</td>\n",
       "    </tr>\n",
       "    <tr>\n",
       "      <th>Arrival_Time</th>\n",
       "      <td>01:10 22 Mar</td>\n",
       "      <td>13:15</td>\n",
       "      <td>04:25 10 Jun</td>\n",
       "      <td>23:30</td>\n",
       "      <td>21:35</td>\n",
       "    </tr>\n",
       "    <tr>\n",
       "      <th>Duration</th>\n",
       "      <td>2h 50m</td>\n",
       "      <td>7h 25m</td>\n",
       "      <td>19h</td>\n",
       "      <td>5h 25m</td>\n",
       "      <td>4h 45m</td>\n",
       "    </tr>\n",
       "    <tr>\n",
       "      <th>Total_Stops</th>\n",
       "      <td>non-stop</td>\n",
       "      <td>2 stops</td>\n",
       "      <td>2 stops</td>\n",
       "      <td>1 stop</td>\n",
       "      <td>1 stop</td>\n",
       "    </tr>\n",
       "    <tr>\n",
       "      <th>Additional_Info</th>\n",
       "      <td>No info</td>\n",
       "      <td>No info</td>\n",
       "      <td>No info</td>\n",
       "      <td>No info</td>\n",
       "      <td>No info</td>\n",
       "    </tr>\n",
       "    <tr>\n",
       "      <th>Price</th>\n",
       "      <td>3897</td>\n",
       "      <td>7662</td>\n",
       "      <td>13882</td>\n",
       "      <td>6218</td>\n",
       "      <td>13302</td>\n",
       "    </tr>\n",
       "  </tbody>\n",
       "</table>\n",
       "</div>"
      ],
      "text/plain": [
       "                            0                      1                      2  \\\n",
       "Airline                IndiGo              Air India            Jet Airways   \n",
       "Date_of_Journey    24/03/2019              1/05/2019              9/06/2019   \n",
       "Source               Banglore                Kolkata                  Delhi   \n",
       "Destination         New Delhi               Banglore                 Cochin   \n",
       "Route               BLR → DEL  CCU → IXR → BBI → BLR  DEL → LKO → BOM → COK   \n",
       "Dep_Time                22:20                  05:50                  09:25   \n",
       "Arrival_Time     01:10 22 Mar                  13:15           04:25 10 Jun   \n",
       "Duration               2h 50m                 7h 25m                    19h   \n",
       "Total_Stops          non-stop                2 stops                2 stops   \n",
       "Additional_Info       No info                No info                No info   \n",
       "Price                    3897                   7662                  13882   \n",
       "\n",
       "                               3                4  \n",
       "Airline                   IndiGo           IndiGo  \n",
       "Date_of_Journey       12/05/2019       01/03/2019  \n",
       "Source                   Kolkata         Banglore  \n",
       "Destination             Banglore        New Delhi  \n",
       "Route            CCU → NAG → BLR  BLR → NAG → DEL  \n",
       "Dep_Time                   18:05            16:50  \n",
       "Arrival_Time               23:30            21:35  \n",
       "Duration                  5h 25m           4h 45m  \n",
       "Total_Stops               1 stop           1 stop  \n",
       "Additional_Info          No info          No info  \n",
       "Price                       6218            13302  "
      ]
     },
     "execution_count": 3,
     "metadata": {},
     "output_type": "execute_result"
    }
   ],
   "source": [
    "train.head().T"
   ]
  },
  {
   "cell_type": "code",
   "execution_count": 4,
   "id": "1a013760",
   "metadata": {},
   "outputs": [
    {
     "data": {
      "text/plain": [
       "(10683, 11)"
      ]
     },
     "execution_count": 4,
     "metadata": {},
     "output_type": "execute_result"
    }
   ],
   "source": [
    "train.shape\n"
   ]
  },
  {
   "cell_type": "code",
   "execution_count": 5,
   "id": "a7d2ef1e",
   "metadata": {},
   "outputs": [
    {
     "name": "stdout",
     "output_type": "stream",
     "text": [
      "<class 'pandas.core.frame.DataFrame'>\n",
      "RangeIndex: 10683 entries, 0 to 10682\n",
      "Data columns (total 11 columns):\n",
      " #   Column           Non-Null Count  Dtype \n",
      "---  ------           --------------  ----- \n",
      " 0   Airline          10683 non-null  object\n",
      " 1   Date_of_Journey  10683 non-null  object\n",
      " 2   Source           10683 non-null  object\n",
      " 3   Destination      10683 non-null  object\n",
      " 4   Route            10682 non-null  object\n",
      " 5   Dep_Time         10683 non-null  object\n",
      " 6   Arrival_Time     10683 non-null  object\n",
      " 7   Duration         10683 non-null  object\n",
      " 8   Total_Stops      10682 non-null  object\n",
      " 9   Additional_Info  10683 non-null  object\n",
      " 10  Price            10683 non-null  int64 \n",
      "dtypes: int64(1), object(10)\n",
      "memory usage: 918.2+ KB\n"
     ]
    }
   ],
   "source": [
    "train.info()"
   ]
  },
  {
   "cell_type": "code",
   "execution_count": 6,
   "id": "ab2cee12",
   "metadata": {},
   "outputs": [
    {
     "data": {
      "text/plain": [
       "220"
      ]
     },
     "execution_count": 6,
     "metadata": {},
     "output_type": "execute_result"
    }
   ],
   "source": [
    "## check duplicated  \n",
    "len(train[ train.duplicated() ])"
   ]
  },
  {
   "cell_type": "code",
   "execution_count": 7,
   "id": "0f8d0c53",
   "metadata": {},
   "outputs": [],
   "source": [
    "## drop duplicated in data\n",
    "train.drop_duplicates(inplace =True)"
   ]
  },
  {
   "cell_type": "markdown",
   "id": "c567a5d7",
   "metadata": {},
   "source": [
    "## univariate analysis\n"
   ]
  },
  {
   "cell_type": "code",
   "execution_count": 8,
   "id": "2b4a2ce3",
   "metadata": {},
   "outputs": [
    {
     "data": {
      "text/plain": [
       "Airline\n",
       "Jet Airways                          3700\n",
       "IndiGo                               2043\n",
       "Air India                            1695\n",
       "Multiple carriers                    1196\n",
       "SpiceJet                              815\n",
       "Vistara                               478\n",
       "Air Asia                              319\n",
       "GoAir                                 194\n",
       "Multiple carriers Premium economy      13\n",
       "Jet Airways Business                    6\n",
       "Vistara Premium economy                 3\n",
       "Trujet                                  1\n",
       "Name: count, dtype: int64"
      ]
     },
     "execution_count": 8,
     "metadata": {},
     "output_type": "execute_result"
    }
   ],
   "source": [
    "\n",
    "train['Airline'].value_counts()"
   ]
  },
  {
   "cell_type": "code",
   "execution_count": 9,
   "id": "775c974d",
   "metadata": {},
   "outputs": [
    {
     "data": {
      "text/plain": [
       "<Axes: xlabel='Airline', ylabel='count'>"
      ]
     },
     "execution_count": 9,
     "metadata": {},
     "output_type": "execute_result"
    },
    {
     "data": {
      "image/png": "[encoded data removed]",
      "text/plain": [
       "<Figure size 2000x500 with 1 Axes>"
      ]
     },
     "metadata": {},
     "output_type": "display_data"
    }
   ],
   "source": [
    "fig= plt.figure(figsize=(20,5))\n",
    "sns.countplot(data=train,x='Airline')\n"
   ]
  },
  {
   "cell_type": "markdown",
   "id": "f75fee74",
   "metadata": {},
   "source": [
    "-  The Jet Airways Airline have the largest number of flights than IndiGo and Air India."
   ]
  },
  {
   "cell_type": "code",
   "execution_count": 10,
   "id": "719bf11d",
   "metadata": {},
   "outputs": [
    {
     "data": {
      "text/plain": [
       "array(['24/03/2019', '1/05/2019', '9/06/2019', '12/05/2019', '01/03/2019',\n",
       "       '24/06/2019', '12/03/2019', '27/05/2019', '1/06/2019',\n",
       "       '18/04/2019', '9/05/2019', '24/04/2019', '3/03/2019', '15/04/2019',\n",
       "       '12/06/2019', '6/03/2019', '21/03/2019', '3/04/2019', '6/05/2019',\n",
       "       '15/05/2019', '18/06/2019', '15/06/2019', '6/04/2019',\n",
       "       '18/05/2019', '27/06/2019', '21/05/2019', '06/03/2019',\n",
       "       '3/06/2019', '15/03/2019', '3/05/2019', '9/03/2019', '6/06/2019',\n",
       "       '24/05/2019', '09/03/2019', '1/04/2019', '21/04/2019',\n",
       "       '21/06/2019', '27/03/2019', '18/03/2019', '12/04/2019',\n",
       "       '9/04/2019', '1/03/2019', '03/03/2019', '27/04/2019'], dtype=object)"
      ]
     },
     "execution_count": 10,
     "metadata": {},
     "output_type": "execute_result"
    }
   ],
   "source": [
    "train['Date_of_Journey'].unique()"
   ]
  },
  {
   "cell_type": "code",
   "execution_count": 11,
   "id": "a5c594c0",
   "metadata": {},
   "outputs": [],
   "source": [
    "train['Date_of_Journey']=pd.to_datetime(train['Date_of_Journey'], format='%d/%m/%Y')"
   ]
  },
  {
   "cell_type": "code",
   "execution_count": 12,
   "id": "4d2a0132",
   "metadata": {},
   "outputs": [],
   "source": [
    "train['Month_of_Journey']=train['Date_of_Journey'].dt.month_name()"
   ]
  },
  {
   "cell_type": "code",
   "execution_count": 13,
   "id": "1dc99853",
   "metadata": {},
   "outputs": [
    {
     "data": {
      "text/plain": [
       "Month_of_Journey\n",
       "May      3396\n",
       "June     3311\n",
       "March    2678\n",
       "April    1078\n",
       "Name: count, dtype: int64"
      ]
     },
     "execution_count": 13,
     "metadata": {},
     "output_type": "execute_result"
    }
   ],
   "source": [
    "train['Month_of_Journey'].value_counts()"
   ]
  },
  {
   "cell_type": "code",
   "execution_count": 14,
   "id": "4e34bfa6",
   "metadata": {},
   "outputs": [
    {
     "data": {
      "text/plain": [
       "<Axes: xlabel='Month_of_Journey', ylabel='count'>"
      ]
     },
     "execution_count": 14,
     "metadata": {},
     "output_type": "execute_result"
    },
    {
     "data": {
      "image/png": "[encoded data removed]",
      "text/plain": [
       "<Figure size 500x500 with 1 Axes>"
      ]
     },
     "metadata": {},
     "output_type": "display_data"
    }
   ],
   "source": [
    "fig= plt.figure(figsize=(5,5))\n",
    "sns.countplot(x='Month_of_Journey', data=train, palette='viridis',order =['May','June','April','March'])"
   ]
  },
  {
   "cell_type": "markdown",
   "id": "71c609cb",
   "metadata": {},
   "source": [
    "-  Most of Journery are  in month May and June."
   ]
  },
  {
   "cell_type": "code",
   "execution_count": 15,
   "id": "e1278657",
   "metadata": {},
   "outputs": [],
   "source": [
    "train['Day_of_Journey']=train['Date_of_Journey'].dt.day_name()"
   ]
  },
  {
   "cell_type": "code",
   "execution_count": 16,
   "id": "12e24a61",
   "metadata": {},
   "outputs": [
    {
     "data": {
      "text/plain": [
       "<Axes: xlabel='Day_of_Journey', ylabel='count'>"
      ]
     },
     "execution_count": 16,
     "metadata": {},
     "output_type": "execute_result"
    },
    {
     "data": {
      "image/png": "[encoded data removed]",
      "text/plain": [
       "<Figure size 800x500 with 1 Axes>"
      ]
     },
     "metadata": {},
     "output_type": "display_data"
    }
   ],
   "source": [
    "fig= plt.figure(figsize=(8,5))\n",
    "sns.countplot(x='Day_of_Journey', data=train, palette='flare')"
   ]
  },
  {
   "cell_type": "markdown",
   "id": "f916cf0c",
   "metadata": {},
   "source": [
    "-  Most of Journery are in wednesday and thursday."
   ]
  },
  {
   "cell_type": "code",
   "execution_count": 17,
   "id": "9ecfddda",
   "metadata": {},
   "outputs": [
    {
     "data": {
      "text/plain": [
       "Source\n",
       "Delhi       4346\n",
       "Kolkata     2860\n",
       "Banglore    2179\n",
       "Mumbai       697\n",
       "Chennai      381\n",
       "Name: count, dtype: int64"
      ]
     },
     "execution_count": 17,
     "metadata": {},
     "output_type": "execute_result"
    }
   ],
   "source": [
    "train['Source'].value_counts()"
   ]
  },
  {
   "cell_type": "code",
   "execution_count": 18,
   "id": "a380409e",
   "metadata": {},
   "outputs": [
    {
     "data": {
      "text/plain": [
       "<Axes: xlabel='Source', ylabel='count'>"
      ]
     },
     "execution_count": 18,
     "metadata": {},
     "output_type": "execute_result"
    },
    {
     "data": {
      "image/png": "[encoded data removed]",
      "text/plain": [
       "<Figure size 640x480 with 1 Axes>"
      ]
     },
     "metadata": {},
     "output_type": "display_data"
    }
   ],
   "source": [
    "sns.countplot(data=train,x='Source')\n"
   ]
  },
  {
   "cell_type": "markdown",
   "id": "7f05d343",
   "metadata": {},
   "source": [
    "- Delhi largest Source of Journey."
   ]
  },
  {
   "cell_type": "code",
   "execution_count": 19,
   "id": "66548d57",
   "metadata": {},
   "outputs": [
    {
     "data": {
      "text/plain": [
       "Destination\n",
       "Cochin       4346\n",
       "Banglore     2860\n",
       "Delhi        1265\n",
       "New Delhi     914\n",
       "Hyderabad     697\n",
       "Kolkata       381\n",
       "Name: count, dtype: int64"
      ]
     },
     "execution_count": 19,
     "metadata": {},
     "output_type": "execute_result"
    }
   ],
   "source": [
    "train['Destination'].value_counts()"
   ]
  },
  {
   "cell_type": "code",
   "execution_count": 20,
   "id": "202192f6",
   "metadata": {},
   "outputs": [
    {
     "data": {
      "text/plain": [
       "<Axes: xlabel='Destination', ylabel='count'>"
      ]
     },
     "execution_count": 20,
     "metadata": {},
     "output_type": "execute_result"
    },
    {
     "data": {
      "image/png": "[encoded data removed]",
      "text/plain": [
       "<Figure size 800x500 with 1 Axes>"
      ]
     },
     "metadata": {},
     "output_type": "display_data"
    }
   ],
   "source": [
    "fig= plt.figure(figsize=(8,5))\n",
    "sns.countplot(x='Destination', data=train, palette='flare')"
   ]
  },
  {
   "cell_type": "code",
   "execution_count": 21,
   "id": "43e14b59",
   "metadata": {},
   "outputs": [
    {
     "data": {
      "text/plain": [
       "Route\n",
       "DEL → BOM → COK          2376\n",
       "BLR → DEL                1536\n",
       "CCU → BOM → BLR           979\n",
       "CCU → BLR                 724\n",
       "BOM → HYD                 621\n",
       "                         ... \n",
       "CCU → VTZ → BLR             1\n",
       "CCU → IXZ → MAA → BLR       1\n",
       "BOM → COK → MAA → HYD       1\n",
       "BOM → CCU → HYD             1\n",
       "BOM → BBI → HYD             1\n",
       "Name: count, Length: 128, dtype: int64"
      ]
     },
     "execution_count": 21,
     "metadata": {},
     "output_type": "execute_result"
    }
   ],
   "source": [
    "train['Route'].value_counts()"
   ]
  },
  {
   "cell_type": "code",
   "execution_count": 22,
   "id": "b31c20e2",
   "metadata": {},
   "outputs": [
    {
     "data": {
      "text/plain": [
       "Dep_Time\n",
       "18:55    233\n",
       "17:00    227\n",
       "07:05    202\n",
       "07:10    201\n",
       "10:00    196\n",
       "        ... \n",
       "22:25      1\n",
       "16:25      1\n",
       "21:35      1\n",
       "04:15      1\n",
       "03:00      1\n",
       "Name: count, Length: 222, dtype: int64"
      ]
     },
     "execution_count": 22,
     "metadata": {},
     "output_type": "execute_result"
    }
   ],
   "source": [
    "train['Dep_Time'].value_counts()"
   ]
  },
  {
   "cell_type": "code",
   "execution_count": 23,
   "id": "988a2c7b",
   "metadata": {},
   "outputs": [],
   "source": [
    "train['Dep_Time']=train['Dep_Time'].str[:2]"
   ]
  },
  {
   "cell_type": "code",
   "execution_count": 24,
   "id": "2a2558b2",
   "metadata": {},
   "outputs": [
    {
     "data": {
      "text/plain": [
       "array(['22', '05', '09', '18', '16', '08', '11', '20', '21', '17', '14',\n",
       "       '04', '07', '10', '15', '06', '19', '23', '13', '02', '12', '00',\n",
       "       '01', '03'], dtype=object)"
      ]
     },
     "execution_count": 24,
     "metadata": {},
     "output_type": "execute_result"
    }
   ],
   "source": [
    "train['Dep_Time'].unique()"
   ]
  },
  {
   "cell_type": "code",
   "execution_count": 25,
   "id": "e1100e2f",
   "metadata": {},
   "outputs": [
    {
     "data": {
      "text/plain": [
       "Arrival_Time\n",
       "19:00           412\n",
       "21:00           360\n",
       "19:15           333\n",
       "16:10           154\n",
       "12:35           122\n",
       "               ... \n",
       "00:50 04 May      1\n",
       "00:50 02 Jun      1\n",
       "00:25 02 Jun      1\n",
       "08:55 13 Mar      1\n",
       "21:20 13 Mar      1\n",
       "Name: count, Length: 1343, dtype: int64"
      ]
     },
     "execution_count": 25,
     "metadata": {},
     "output_type": "execute_result"
    }
   ],
   "source": [
    "train['Arrival_Time'].value_counts()"
   ]
  },
  {
   "cell_type": "code",
   "execution_count": 26,
   "id": "cf796da4",
   "metadata": {},
   "outputs": [],
   "source": [
    "train['Arrival_Time']=train['Arrival_Time'].str[:2]"
   ]
  },
  {
   "cell_type": "code",
   "execution_count": 27,
   "id": "8fef5d40",
   "metadata": {},
   "outputs": [
    {
     "data": {
      "text/plain": [
       "array(['01', '13', '04', '23', '21', '11', '10', '05', '19', '22', '09',\n",
       "       '12', '06', '08', '03', '20', '16', '18', '15', '14', '00', '02',\n",
       "       '07', '17'], dtype=object)"
      ]
     },
     "execution_count": 27,
     "metadata": {},
     "output_type": "execute_result"
    }
   ],
   "source": [
    "train['Arrival_Time'].unique()"
   ]
  },
  {
   "cell_type": "code",
   "execution_count": 28,
   "id": "a949cbbb",
   "metadata": {},
   "outputs": [],
   "source": [
    "train['Dep_Time'] = train['Dep_Time'].astype(str).astype(int)\n",
    "train['Arrival_Time'] = train['Arrival_Time'].astype(str).astype(int)"
   ]
  },
  {
   "cell_type": "code",
   "execution_count": 29,
   "id": "581a0d17",
   "metadata": {},
   "outputs": [
    {
     "data": {
      "text/plain": [
       "Index(['Airline', 'Date_of_Journey', 'Source', 'Destination', 'Route',\n",
       "       'Dep_Time', 'Arrival_Time', 'Duration', 'Total_Stops',\n",
       "       'Additional_Info', 'Price', 'Month_of_Journey', 'Day_of_Journey'],\n",
       "      dtype='object')"
      ]
     },
     "execution_count": 29,
     "metadata": {},
     "output_type": "execute_result"
    }
   ],
   "source": [
    "train.columns"
   ]
  },
  {
   "cell_type": "code",
   "execution_count": 30,
   "id": "128ec218",
   "metadata": {},
   "outputs": [
    {
     "data": {
      "text/plain": [
       "Duration\n",
       "2h 50m     544\n",
       "1h 30m     386\n",
       "2h 45m     335\n",
       "2h 55m     332\n",
       "2h 35m     329\n",
       "          ... \n",
       "30h 25m      1\n",
       "30h 15m      1\n",
       "42h 5m       1\n",
       "28h 55m      1\n",
       "47h 40m      1\n",
       "Name: count, Length: 368, dtype: int64"
      ]
     },
     "execution_count": 30,
     "metadata": {},
     "output_type": "execute_result"
    }
   ],
   "source": [
    "train['Duration'].value_counts()"
   ]
  },
  {
   "cell_type": "code",
   "execution_count": 31,
   "id": "6c31a974",
   "metadata": {},
   "outputs": [],
   "source": [
    "train['Duration_hour']=train['Duration'].str.split('h').str[0]"
   ]
  },
  {
   "cell_type": "code",
   "execution_count": 32,
   "id": "f3e06769",
   "metadata": {},
   "outputs": [
    {
     "data": {
      "text/plain": [
       "array(['2', '7', '19', '5', '4', '15', '21', '25', '13', '12', '26', '22',\n",
       "       '23', '20', '10', '6', '11', '8', '16', '3', '27', '1', '14', '9',\n",
       "       '18', '17', '24', '30', '28', '29', '37', '34', '38', '35', '36',\n",
       "       '47', '33', '32', '31', '42', '39', '5m', '41', '40'], dtype=object)"
      ]
     },
     "execution_count": 32,
     "metadata": {},
     "output_type": "execute_result"
    }
   ],
   "source": [
    "train['Duration_hour'].unique()"
   ]
  },
  {
   "cell_type": "code",
   "execution_count": 33,
   "id": "03c8b4d0",
   "metadata": {},
   "outputs": [
    {
     "data": {
      "text/plain": [
       "Index([6474], dtype='int64')"
      ]
     },
     "execution_count": 33,
     "metadata": {},
     "output_type": "execute_result"
    }
   ],
   "source": [
    "train_5m=train[train['Duration_hour']=='5m'].index\n",
    "train_5m"
   ]
  },
  {
   "cell_type": "code",
   "execution_count": 34,
   "id": "9d5f7078",
   "metadata": {},
   "outputs": [],
   "source": [
    "train.drop(train_5m,inplace=True)"
   ]
  },
  {
   "cell_type": "code",
   "execution_count": 35,
   "id": "89f62b67",
   "metadata": {},
   "outputs": [],
   "source": [
    "train['Duration_hour']=train['Duration_hour'].astype(int)"
   ]
  },
  {
   "cell_type": "code",
   "execution_count": 36,
   "id": "300d061c",
   "metadata": {},
   "outputs": [],
   "source": [
    "train['Duration_min']=train['Duration'].str.split('h').str[1].replace(['m'],'')"
   ]
  },
  {
   "cell_type": "code",
   "execution_count": 37,
   "id": "73fdd1df",
   "metadata": {},
   "outputs": [
    {
     "data": {
      "text/plain": [
       "array([' 50m', ' 25m', '', ' 45m', ' 30m', ' 5m', ' 15m', ' 35m', ' 10m',\n",
       "       ' 20m', ' 55m', ' 40m'], dtype=object)"
      ]
     },
     "execution_count": 37,
     "metadata": {},
     "output_type": "execute_result"
    }
   ],
   "source": [
    "train['Duration_min'].unique()"
   ]
  },
  {
   "cell_type": "code",
   "execution_count": 38,
   "id": "1a490ddd",
   "metadata": {},
   "outputs": [
    {
     "data": {
      "text/plain": [
       "array([' 50', ' 25', '', ' 45', ' 30', ' 5', ' 15', ' 35', ' 10', ' 20',\n",
       "       ' 55', ' 40'], dtype=object)"
      ]
     },
     "execution_count": 38,
     "metadata": {},
     "output_type": "execute_result"
    }
   ],
   "source": [
    "train['Duration_min']=train['Duration_min'].str[:-1]\n",
    "train['Duration_min'].unique()"
   ]
  },
  {
   "cell_type": "code",
   "execution_count": 39,
   "id": "88eeebfe",
   "metadata": {},
   "outputs": [],
   "source": [
    "train['Duration_min'].replace('',np.nan,inplace=True)"
   ]
  },
  {
   "cell_type": "code",
   "execution_count": 40,
   "id": "2e3d7f21",
   "metadata": {},
   "outputs": [],
   "source": [
    "train['Duration_min'].fillna(0,inplace=True)\n"
   ]
  },
  {
   "cell_type": "code",
   "execution_count": 41,
   "id": "098c9621",
   "metadata": {},
   "outputs": [],
   "source": [
    "train['Duration_min']=train['Duration_min'].astype(int)"
   ]
  },
  {
   "cell_type": "code",
   "execution_count": 42,
   "id": "ae50aa23",
   "metadata": {},
   "outputs": [],
   "source": [
    "def convert_to_minutes(h):\n",
    "    if h>12:\n",
    "        return (h-12)*60\n",
    "    else:\n",
    "        return h*60\n",
    "    \n",
    "train['Duration_hour']=train['Duration_hour'].apply(convert_to_minutes)\n",
    "train['Duration_min']=train['Duration_hour']+train['Duration_min']\n"
   ]
  },
  {
   "cell_type": "code",
   "execution_count": 43,
   "id": "2f094299",
   "metadata": {},
   "outputs": [],
   "source": [
    "train.drop(columns=['Duration_hour','Duration'],inplace=True)\n"
   ]
  },
  {
   "cell_type": "code",
   "execution_count": 44,
   "id": "d9bd3111",
   "metadata": {},
   "outputs": [
    {
     "data": {
      "text/html": [
       "<div>\n",
       "<style scoped>\n",
       "    .dataframe tbody tr th:only-of-type {\n",
       "        vertical-align: middle;\n",
       "    }\n",
       "\n",
       "    .dataframe tbody tr th {\n",
       "        vertical-align: top;\n",
       "    }\n",
       "\n",
       "    .dataframe thead th {\n",
       "        text-align: right;\n",
       "    }\n",
       "</style>\n",
       "<table border=\"1\" class=\"dataframe\">\n",
       "  <thead>\n",
       "    <tr style=\"text-align: right;\">\n",
       "      <th></th>\n",
       "      <th>0</th>\n",
       "      <th>1</th>\n",
       "      <th>2</th>\n",
       "      <th>3</th>\n",
       "      <th>4</th>\n",
       "    </tr>\n",
       "  </thead>\n",
       "  <tbody>\n",
       "    <tr>\n",
       "      <th>Airline</th>\n",
       "      <td>IndiGo</td>\n",
       "      <td>Air India</td>\n",
       "      <td>Jet Airways</td>\n",
       "      <td>IndiGo</td>\n",
       "      <td>IndiGo</td>\n",
       "    </tr>\n",
       "    <tr>\n",
       "      <th>Date_of_Journey</th>\n",
       "      <td>2019-03-24 00:00:00</td>\n",
       "      <td>2019-05-01 00:00:00</td>\n",
       "      <td>2019-06-09 00:00:00</td>\n",
       "      <td>2019-05-12 00:00:00</td>\n",
       "      <td>2019-03-01 00:00:00</td>\n",
       "    </tr>\n",
       "    <tr>\n",
       "      <th>Source</th>\n",
       "      <td>Banglore</td>\n",
       "      <td>Kolkata</td>\n",
       "      <td>Delhi</td>\n",
       "      <td>Kolkata</td>\n",
       "      <td>Banglore</td>\n",
       "    </tr>\n",
       "    <tr>\n",
       "      <th>Destination</th>\n",
       "      <td>New Delhi</td>\n",
       "      <td>Banglore</td>\n",
       "      <td>Cochin</td>\n",
       "      <td>Banglore</td>\n",
       "      <td>New Delhi</td>\n",
       "    </tr>\n",
       "    <tr>\n",
       "      <th>Route</th>\n",
       "      <td>BLR → DEL</td>\n",
       "      <td>CCU → IXR → BBI → BLR</td>\n",
       "      <td>DEL → LKO → BOM → COK</td>\n",
       "      <td>CCU → NAG → BLR</td>\n",
       "      <td>BLR → NAG → DEL</td>\n",
       "    </tr>\n",
       "    <tr>\n",
       "      <th>Dep_Time</th>\n",
       "      <td>22</td>\n",
       "      <td>5</td>\n",
       "      <td>9</td>\n",
       "      <td>18</td>\n",
       "      <td>16</td>\n",
       "    </tr>\n",
       "    <tr>\n",
       "      <th>Arrival_Time</th>\n",
       "      <td>1</td>\n",
       "      <td>13</td>\n",
       "      <td>4</td>\n",
       "      <td>23</td>\n",
       "      <td>21</td>\n",
       "    </tr>\n",
       "    <tr>\n",
       "      <th>Total_Stops</th>\n",
       "      <td>non-stop</td>\n",
       "      <td>2 stops</td>\n",
       "      <td>2 stops</td>\n",
       "      <td>1 stop</td>\n",
       "      <td>1 stop</td>\n",
       "    </tr>\n",
       "    <tr>\n",
       "      <th>Additional_Info</th>\n",
       "      <td>No info</td>\n",
       "      <td>No info</td>\n",
       "      <td>No info</td>\n",
       "      <td>No info</td>\n",
       "      <td>No info</td>\n",
       "    </tr>\n",
       "    <tr>\n",
       "      <th>Price</th>\n",
       "      <td>3897</td>\n",
       "      <td>7662</td>\n",
       "      <td>13882</td>\n",
       "      <td>6218</td>\n",
       "      <td>13302</td>\n",
       "    </tr>\n",
       "    <tr>\n",
       "      <th>Month_of_Journey</th>\n",
       "      <td>March</td>\n",
       "      <td>May</td>\n",
       "      <td>June</td>\n",
       "      <td>May</td>\n",
       "      <td>March</td>\n",
       "    </tr>\n",
       "    <tr>\n",
       "      <th>Day_of_Journey</th>\n",
       "      <td>Sunday</td>\n",
       "      <td>Wednesday</td>\n",
       "      <td>Sunday</td>\n",
       "      <td>Sunday</td>\n",
       "      <td>Friday</td>\n",
       "    </tr>\n",
       "    <tr>\n",
       "      <th>Duration_min</th>\n",
       "      <td>170</td>\n",
       "      <td>445</td>\n",
       "      <td>420</td>\n",
       "      <td>325</td>\n",
       "      <td>285</td>\n",
       "    </tr>\n",
       "  </tbody>\n",
       "</table>\n",
       "</div>"
      ],
      "text/plain": [
       "                                    0                      1  \\\n",
       "Airline                        IndiGo              Air India   \n",
       "Date_of_Journey   2019-03-24 00:00:00    2019-05-01 00:00:00   \n",
       "Source                       Banglore                Kolkata   \n",
       "Destination                 New Delhi               Banglore   \n",
       "Route                       BLR → DEL  CCU → IXR → BBI → BLR   \n",
       "Dep_Time                           22                      5   \n",
       "Arrival_Time                        1                     13   \n",
       "Total_Stops                  non-stop                2 stops   \n",
       "Additional_Info               No info                No info   \n",
       "Price                            3897                   7662   \n",
       "Month_of_Journey                March                    May   \n",
       "Day_of_Journey                 Sunday              Wednesday   \n",
       "Duration_min                      170                    445   \n",
       "\n",
       "                                      2                    3  \\\n",
       "Airline                     Jet Airways               IndiGo   \n",
       "Date_of_Journey     2019-06-09 00:00:00  2019-05-12 00:00:00   \n",
       "Source                            Delhi              Kolkata   \n",
       "Destination                      Cochin             Banglore   \n",
       "Route             DEL → LKO → BOM → COK      CCU → NAG → BLR   \n",
       "Dep_Time                              9                   18   \n",
       "Arrival_Time                          4                   23   \n",
       "Total_Stops                     2 stops               1 stop   \n",
       "Additional_Info                 No info              No info   \n",
       "Price                             13882                 6218   \n",
       "Month_of_Journey                   June                  May   \n",
       "Day_of_Journey                   Sunday               Sunday   \n",
       "Duration_min                        420                  325   \n",
       "\n",
       "                                    4  \n",
       "Airline                        IndiGo  \n",
       "Date_of_Journey   2019-03-01 00:00:00  \n",
       "Source                       Banglore  \n",
       "Destination                 New Delhi  \n",
       "Route                 BLR → NAG → DEL  \n",
       "Dep_Time                           16  \n",
       "Arrival_Time                       21  \n",
       "Total_Stops                    1 stop  \n",
       "Additional_Info               No info  \n",
       "Price                           13302  \n",
       "Month_of_Journey                March  \n",
       "Day_of_Journey                 Friday  \n",
       "Duration_min                      285  "
      ]
     },
     "execution_count": 44,
     "metadata": {},
     "output_type": "execute_result"
    }
   ],
   "source": [
    "train.head(5).T"
   ]
  },
  {
   "cell_type": "code",
   "execution_count": 45,
   "id": "4be38e80",
   "metadata": {},
   "outputs": [
    {
     "data": {
      "text/plain": [
       "Total_Stops\n",
       "1 stop      53.771150\n",
       "non-stop    33.218622\n",
       "2 stops     12.589619\n",
       "3 stops      0.411051\n",
       "4 stops      0.009559\n",
       "Name: proportion, dtype: float64"
      ]
     },
     "execution_count": 45,
     "metadata": {},
     "output_type": "execute_result"
    }
   ],
   "source": [
    "train['Total_Stops'].value_counts(normalize=True)*100\n"
   ]
  },
  {
   "cell_type": "code",
   "execution_count": 46,
   "id": "cebd70db",
   "metadata": {},
   "outputs": [
    {
     "data": {
      "text/plain": [
       "<Axes: ylabel='proportion'>"
      ]
     },
     "execution_count": 46,
     "metadata": {},
     "output_type": "execute_result"
    },
    {
     "data": {
      "image/png": "[encoded data removed]",
      "text/plain": [
       "<Figure size 640x480 with 1 Axes>"
      ]
     },
     "metadata": {},
     "output_type": "display_data"
    }
   ],
   "source": [
    "train['Total_Stops'].value_counts(normalize=True).plot.pie()"
   ]
  },
  {
   "cell_type": "markdown",
   "id": "6ab3a216",
   "metadata": {},
   "source": [
    "- Most journeys take one stop during the journey."
   ]
  },
  {
   "cell_type": "code",
   "execution_count": 47,
   "id": "b6bb1098",
   "metadata": {},
   "outputs": [],
   "source": [
    "train['Total_Stops'].replace('non-stop', 0, inplace=True)\n",
    "train['Total_Stops'].replace('1 stop', 1, inplace=True)\n",
    "train['Total_Stops'].replace('2 stops', 2, inplace=True)\n",
    "train['Total_Stops'].replace('3 stops', 3, inplace=True)\n",
    "train['Total_Stops'].replace('4 stops', 4, inplace=True)"
   ]
  },
  {
   "cell_type": "code",
   "execution_count": 48,
   "id": "ba34c74d",
   "metadata": {},
   "outputs": [
    {
     "data": {
      "text/plain": [
       "array([ 0.,  2.,  1.,  3., nan,  4.])"
      ]
     },
     "execution_count": 48,
     "metadata": {},
     "output_type": "execute_result"
    }
   ],
   "source": [
    "train['Total_Stops'].unique()"
   ]
  },
  {
   "cell_type": "code",
   "execution_count": 49,
   "id": "e0859aff",
   "metadata": {},
   "outputs": [
    {
     "data": {
      "text/plain": [
       "Additional_Info\n",
       "No info                         8182\n",
       "In-flight meal not included     1926\n",
       "No check-in baggage included     318\n",
       "1 Long layover                    19\n",
       "Change airports                    7\n",
       "Business class                     4\n",
       "No Info                            3\n",
       "1 Short layover                    1\n",
       "Red-eye flight                     1\n",
       "2 Long layover                     1\n",
       "Name: count, dtype: int64"
      ]
     },
     "execution_count": 49,
     "metadata": {},
     "output_type": "execute_result"
    }
   ],
   "source": [
    "train['Additional_Info'].value_counts()"
   ]
  },
  {
   "cell_type": "code",
   "execution_count": 50,
   "id": "b8998068",
   "metadata": {},
   "outputs": [],
   "source": [
    "train['Additional_Info'] = train['Additional_Info'].str.replace('No info', 'No Info')"
   ]
  },
  {
   "cell_type": "code",
   "execution_count": 51,
   "id": "4c86cbf5",
   "metadata": {},
   "outputs": [],
   "source": [
    "train['Additional_Info']= train['Additional_Info'].str.replace('2 Long layover' ,'1 Long layover' )"
   ]
  },
  {
   "cell_type": "code",
   "execution_count": 52,
   "id": "454e7cba",
   "metadata": {},
   "outputs": [],
   "source": [
    "train['Additional_Info']= train['Additional_Info'].str.replace('No check-in baggage included','In-flight meal not included')"
   ]
  },
  {
   "cell_type": "code",
   "execution_count": 53,
   "id": "41cb3e59",
   "metadata": {},
   "outputs": [
    {
     "data": {
      "text/plain": [
       "Additional_Info\n",
       "No Info                        8185\n",
       "In-flight meal not included    2244\n",
       "1 Long layover                   20\n",
       "Change airports                   7\n",
       "Business class                    4\n",
       "1 Short layover                   1\n",
       "Red-eye flight                    1\n",
       "Name: count, dtype: int64"
      ]
     },
     "execution_count": 53,
     "metadata": {},
     "output_type": "execute_result"
    }
   ],
   "source": [
    "train['Additional_Info'].value_counts()"
   ]
  },
  {
   "cell_type": "code",
   "execution_count": 54,
   "id": "f6f42e9c",
   "metadata": {},
   "outputs": [
    {
     "data": {
      "text/plain": [
       "Price\n",
       "10262    258\n",
       "10844    212\n",
       "7229     161\n",
       "4804     160\n",
       "4823     131\n",
       "        ... \n",
       "8925       1\n",
       "11774      1\n",
       "16497      1\n",
       "8853       1\n",
       "12648      1\n",
       "Name: count, Length: 1870, dtype: int64"
      ]
     },
     "execution_count": 54,
     "metadata": {},
     "output_type": "execute_result"
    }
   ],
   "source": [
    "train['Price'].value_counts()"
   ]
  },
  {
   "cell_type": "code",
   "execution_count": 55,
   "id": "00f84fef",
   "metadata": {},
   "outputs": [
    {
     "data": {
      "image/png": "[encoded data removed]",
      "text/plain": [
       "<Figure size 640x480 with 1 Axes>"
      ]
     },
     "metadata": {},
     "output_type": "display_data"
    }
   ],
   "source": [
    "sns.boxplot(x= 'Price', data=train);"
   ]
  },
  {
   "cell_type": "code",
   "execution_count": 56,
   "id": "cff7f671",
   "metadata": {},
   "outputs": [
    {
     "data": {
      "text/html": [
       "<div>\n",
       "<style scoped>\n",
       "    .dataframe tbody tr th:only-of-type {\n",
       "        vertical-align: middle;\n",
       "    }\n",
       "\n",
       "    .dataframe tbody tr th {\n",
       "        vertical-align: top;\n",
       "    }\n",
       "\n",
       "    .dataframe thead th {\n",
       "        text-align: right;\n",
       "    }\n",
       "</style>\n",
       "<table border=\"1\" class=\"dataframe\">\n",
       "  <thead>\n",
       "    <tr style=\"text-align: right;\">\n",
       "      <th></th>\n",
       "      <th>Date_of_Journey</th>\n",
       "      <th>Dep_Time</th>\n",
       "      <th>Arrival_Time</th>\n",
       "      <th>Total_Stops</th>\n",
       "      <th>Price</th>\n",
       "      <th>Duration_min</th>\n",
       "    </tr>\n",
       "  </thead>\n",
       "  <tbody>\n",
       "    <tr>\n",
       "      <th>count</th>\n",
       "      <td>10462</td>\n",
       "      <td>10462.000000</td>\n",
       "      <td>10462.000000</td>\n",
       "      <td>10461.000000</td>\n",
       "      <td>10462.000000</td>\n",
       "      <td>10462.000000</td>\n",
       "    </tr>\n",
       "    <tr>\n",
       "      <th>mean</th>\n",
       "      <td>2019-05-04 13:46:56.822787328</td>\n",
       "      <td>12.477825</td>\n",
       "      <td>13.387020</td>\n",
       "      <td>0.802218</td>\n",
       "      <td>9025.849073</td>\n",
       "      <td>395.307781</td>\n",
       "    </tr>\n",
       "    <tr>\n",
       "      <th>min</th>\n",
       "      <td>2019-03-01 00:00:00</td>\n",
       "      <td>0.000000</td>\n",
       "      <td>0.000000</td>\n",
       "      <td>0.000000</td>\n",
       "      <td>1759.000000</td>\n",
       "      <td>60.000000</td>\n",
       "    </tr>\n",
       "    <tr>\n",
       "      <th>25%</th>\n",
       "      <td>2019-03-27 00:00:00</td>\n",
       "      <td>8.000000</td>\n",
       "      <td>8.000000</td>\n",
       "      <td>0.000000</td>\n",
       "      <td>5224.000000</td>\n",
       "      <td>165.000000</td>\n",
       "    </tr>\n",
       "    <tr>\n",
       "      <th>50%</th>\n",
       "      <td>2019-05-15 00:00:00</td>\n",
       "      <td>11.000000</td>\n",
       "      <td>14.000000</td>\n",
       "      <td>1.000000</td>\n",
       "      <td>8266.000000</td>\n",
       "      <td>320.000000</td>\n",
       "    </tr>\n",
       "    <tr>\n",
       "      <th>75%</th>\n",
       "      <td>2019-06-06 00:00:00</td>\n",
       "      <td>18.000000</td>\n",
       "      <td>19.000000</td>\n",
       "      <td>1.000000</td>\n",
       "      <td>12337.500000</td>\n",
       "      <td>600.000000</td>\n",
       "    </tr>\n",
       "    <tr>\n",
       "      <th>max</th>\n",
       "      <td>2019-06-27 00:00:00</td>\n",
       "      <td>23.000000</td>\n",
       "      <td>23.000000</td>\n",
       "      <td>4.000000</td>\n",
       "      <td>79512.000000</td>\n",
       "      <td>2140.000000</td>\n",
       "    </tr>\n",
       "    <tr>\n",
       "      <th>std</th>\n",
       "      <td>NaN</td>\n",
       "      <td>5.727225</td>\n",
       "      <td>6.855633</td>\n",
       "      <td>0.660537</td>\n",
       "      <td>4624.162125</td>\n",
       "      <td>276.348543</td>\n",
       "    </tr>\n",
       "  </tbody>\n",
       "</table>\n",
       "</div>"
      ],
      "text/plain": [
       "                     Date_of_Journey      Dep_Time  Arrival_Time  \\\n",
       "count                          10462  10462.000000  10462.000000   \n",
       "mean   2019-05-04 13:46:56.822787328     12.477825     13.387020   \n",
       "min              2019-03-01 00:00:00      0.000000      0.000000   \n",
       "25%              2019-03-27 00:00:00      8.000000      8.000000   \n",
       "50%              2019-05-15 00:00:00     11.000000     14.000000   \n",
       "75%              2019-06-06 00:00:00     18.000000     19.000000   \n",
       "max              2019-06-27 00:00:00     23.000000     23.000000   \n",
       "std                              NaN      5.727225      6.855633   \n",
       "\n",
       "        Total_Stops         Price  Duration_min  \n",
       "count  10461.000000  10462.000000  10462.000000  \n",
       "mean       0.802218   9025.849073    395.307781  \n",
       "min        0.000000   1759.000000     60.000000  \n",
       "25%        0.000000   5224.000000    165.000000  \n",
       "50%        1.000000   8266.000000    320.000000  \n",
       "75%        1.000000  12337.500000    600.000000  \n",
       "max        4.000000  79512.000000   2140.000000  \n",
       "std        0.660537   4624.162125    276.348543  "
      ]
     },
     "execution_count": 56,
     "metadata": {},
     "output_type": "execute_result"
    }
   ],
   "source": [
    "train.describe()"
   ]
  },
  {
   "cell_type": "code",
   "execution_count": 57,
   "id": "47932c36",
   "metadata": {},
   "outputs": [
    {
     "data": {
      "text/plain": [
       "Index(['Airline', 'Date_of_Journey', 'Source', 'Destination', 'Route',\n",
       "       'Dep_Time', 'Arrival_Time', 'Total_Stops', 'Additional_Info', 'Price',\n",
       "       'Month_of_Journey', 'Day_of_Journey', 'Duration_min'],\n",
       "      dtype='object')"
      ]
     },
     "execution_count": 57,
     "metadata": {},
     "output_type": "execute_result"
    }
   ],
   "source": [
    "train.columns"
   ]
  },
  {
   "cell_type": "code",
   "execution_count": 58,
   "id": "6843adce",
   "metadata": {},
   "outputs": [],
   "source": [
    "## remove unnecessary columns:\n",
    "train.drop(['Date_of_Journey','Route'],axis=1,inplace=True)"
   ]
  },
  {
   "cell_type": "code",
   "execution_count": 59,
   "id": "4080da18",
   "metadata": {},
   "outputs": [
    {
     "data": {
      "text/html": [
       "<div>\n",
       "<style scoped>\n",
       "    .dataframe tbody tr th:only-of-type {\n",
       "        vertical-align: middle;\n",
       "    }\n",
       "\n",
       "    .dataframe tbody tr th {\n",
       "        vertical-align: top;\n",
       "    }\n",
       "\n",
       "    .dataframe thead th {\n",
       "        text-align: right;\n",
       "    }\n",
       "</style>\n",
       "<table border=\"1\" class=\"dataframe\">\n",
       "  <thead>\n",
       "    <tr style=\"text-align: right;\">\n",
       "      <th></th>\n",
       "      <th>Airline</th>\n",
       "      <th>Source</th>\n",
       "      <th>Destination</th>\n",
       "      <th>Dep_Time</th>\n",
       "      <th>Arrival_Time</th>\n",
       "      <th>Total_Stops</th>\n",
       "      <th>Additional_Info</th>\n",
       "      <th>Price</th>\n",
       "      <th>Month_of_Journey</th>\n",
       "      <th>Day_of_Journey</th>\n",
       "      <th>Duration_min</th>\n",
       "    </tr>\n",
       "  </thead>\n",
       "  <tbody>\n",
       "    <tr>\n",
       "      <th>0</th>\n",
       "      <td>IndiGo</td>\n",
       "      <td>Banglore</td>\n",
       "      <td>New Delhi</td>\n",
       "      <td>22</td>\n",
       "      <td>1</td>\n",
       "      <td>0.0</td>\n",
       "      <td>No Info</td>\n",
       "      <td>3897</td>\n",
       "      <td>March</td>\n",
       "      <td>Sunday</td>\n",
       "      <td>170</td>\n",
       "    </tr>\n",
       "    <tr>\n",
       "      <th>1</th>\n",
       "      <td>Air India</td>\n",
       "      <td>Kolkata</td>\n",
       "      <td>Banglore</td>\n",
       "      <td>5</td>\n",
       "      <td>13</td>\n",
       "      <td>2.0</td>\n",
       "      <td>No Info</td>\n",
       "      <td>7662</td>\n",
       "      <td>May</td>\n",
       "      <td>Wednesday</td>\n",
       "      <td>445</td>\n",
       "    </tr>\n",
       "    <tr>\n",
       "      <th>2</th>\n",
       "      <td>Jet Airways</td>\n",
       "      <td>Delhi</td>\n",
       "      <td>Cochin</td>\n",
       "      <td>9</td>\n",
       "      <td>4</td>\n",
       "      <td>2.0</td>\n",
       "      <td>No Info</td>\n",
       "      <td>13882</td>\n",
       "      <td>June</td>\n",
       "      <td>Sunday</td>\n",
       "      <td>420</td>\n",
       "    </tr>\n",
       "    <tr>\n",
       "      <th>3</th>\n",
       "      <td>IndiGo</td>\n",
       "      <td>Kolkata</td>\n",
       "      <td>Banglore</td>\n",
       "      <td>18</td>\n",
       "      <td>23</td>\n",
       "      <td>1.0</td>\n",
       "      <td>No Info</td>\n",
       "      <td>6218</td>\n",
       "      <td>May</td>\n",
       "      <td>Sunday</td>\n",
       "      <td>325</td>\n",
       "    </tr>\n",
       "    <tr>\n",
       "      <th>4</th>\n",
       "      <td>IndiGo</td>\n",
       "      <td>Banglore</td>\n",
       "      <td>New Delhi</td>\n",
       "      <td>16</td>\n",
       "      <td>21</td>\n",
       "      <td>1.0</td>\n",
       "      <td>No Info</td>\n",
       "      <td>13302</td>\n",
       "      <td>March</td>\n",
       "      <td>Friday</td>\n",
       "      <td>285</td>\n",
       "    </tr>\n",
       "  </tbody>\n",
       "</table>\n",
       "</div>"
      ],
      "text/plain": [
       "       Airline    Source Destination  Dep_Time  Arrival_Time  Total_Stops  \\\n",
       "0       IndiGo  Banglore   New Delhi        22             1          0.0   \n",
       "1    Air India   Kolkata    Banglore         5            13          2.0   \n",
       "2  Jet Airways     Delhi      Cochin         9             4          2.0   \n",
       "3       IndiGo   Kolkata    Banglore        18            23          1.0   \n",
       "4       IndiGo  Banglore   New Delhi        16            21          1.0   \n",
       "\n",
       "  Additional_Info  Price Month_of_Journey Day_of_Journey  Duration_min  \n",
       "0         No Info   3897            March         Sunday           170  \n",
       "1         No Info   7662              May      Wednesday           445  \n",
       "2         No Info  13882             June         Sunday           420  \n",
       "3         No Info   6218              May         Sunday           325  \n",
       "4         No Info  13302            March         Friday           285  "
      ]
     },
     "execution_count": 59,
     "metadata": {},
     "output_type": "execute_result"
    }
   ],
   "source": [
    "train.head()"
   ]
  },
  {
   "cell_type": "markdown",
   "id": "9fc71924",
   "metadata": {},
   "source": [
    "## Bivariate analysis"
   ]
  },
  {
   "cell_type": "code",
   "execution_count": 60,
   "id": "8adf4777",
   "metadata": {},
   "outputs": [
    {
     "data": {
      "text/plain": [
       "Index(['Dep_Time', 'Arrival_Time', 'Total_Stops', 'Price', 'Duration_min'], dtype='object')"
      ]
     },
     "execution_count": 60,
     "metadata": {},
     "output_type": "execute_result"
    }
   ],
   "source": [
    "NUM_col=train.select_dtypes(include=np.number).columns\n",
    "NUM_col"
   ]
  },
  {
   "cell_type": "code",
   "execution_count": 61,
   "id": "d8f22a89",
   "metadata": {},
   "outputs": [
    {
     "data": {
      "image/png": "[encoded data removed]",
      "text/plain": [
       "<Figure size 1500x1500 with 5 Axes>"
      ]
     },
     "metadata": {},
     "output_type": "display_data"
    }
   ],
   "source": [
    "fig = plt.figure(figsize= (15,15))\n",
    "for i, col in enumerate(NUM_col):\n",
    "    \n",
    "    ax=fig.add_subplot(4,4,i+1)\n",
    "    \n",
    "    sns.kdeplot(x=train[col], ax=ax)\n",
    "    \n",
    "fig.tight_layout()  \n",
    "plt.show()"
   ]
  },
  {
   "cell_type": "markdown",
   "id": "597f52e7",
   "metadata": {},
   "source": [
    "- Dep_Time and Arrival_Time represent normal distribution but price and Duration_min  didn't represent normal distribution."
   ]
  },
  {
   "cell_type": "code",
   "execution_count": 62,
   "id": "bb5c11e8",
   "metadata": {},
   "outputs": [
    {
     "data": {
      "text/plain": [
       "10513     1759\n",
       "4839      1759\n",
       "4274      1759\n",
       "4066      1759\n",
       "1513      1840\n",
       "         ...  \n",
       "1478     54826\n",
       "5439     54826\n",
       "10364    57209\n",
       "5372     62427\n",
       "2924     79512\n",
       "Name: Price, Length: 10462, dtype: int64"
      ]
     },
     "execution_count": 62,
     "metadata": {},
     "output_type": "execute_result"
    }
   ],
   "source": [
    "train['Price'].sort_values(ascending=True)"
   ]
  },
  {
   "cell_type": "code",
   "execution_count": 63,
   "id": "723e3e06",
   "metadata": {},
   "outputs": [
    {
     "data": {
      "text/plain": [
       "<Axes: xlabel='Dep_Time', ylabel='Price'>"
      ]
     },
     "execution_count": 63,
     "metadata": {},
     "output_type": "execute_result"
    },
    {
     "data": {
      "image/png": "[encoded data removed]",
      "text/plain": [
       "<Figure size 640x480 with 1 Axes>"
      ]
     },
     "metadata": {},
     "output_type": "display_data"
    }
   ],
   "source": [
    "sns.boxplot(x= 'Dep_Time',y='Price',data=train)"
   ]
  },
  {
   "cell_type": "code",
   "execution_count": 64,
   "id": "b6c50fe5",
   "metadata": {},
   "outputs": [
    {
     "data": {
      "text/plain": [
       "<Axes: xlabel='Additional_Info', ylabel='Price'>"
      ]
     },
     "execution_count": 64,
     "metadata": {},
     "output_type": "execute_result"
    },
    {
     "data": {
      "image/png": "[encoded data removed]",
      "text/plain": [
       "<Figure size 1500x500 with 1 Axes>"
      ]
     },
     "metadata": {},
     "output_type": "display_data"
    }
   ],
   "source": [
    "fig = plt.figure(figsize= (15,5))\n",
    "sns.barplot(x='Additional_Info',y='Price',data=train)"
   ]
  },
  {
   "cell_type": "code",
   "execution_count": 65,
   "id": "f8993b9c",
   "metadata": {},
   "outputs": [
    {
     "data": {
      "text/plain": [
       "<Axes: xlabel='Arrival_Time', ylabel='Price'>"
      ]
     },
     "execution_count": 65,
     "metadata": {},
     "output_type": "execute_result"
    },
    {
     "data": {
      "image/png": "[encoded data removed]",
      "text/plain": [
       "<Figure size 640x480 with 1 Axes>"
      ]
     },
     "metadata": {},
     "output_type": "display_data"
    }
   ],
   "source": [
    "sns.barplot(x='Arrival_Time',y='Price',data=train)"
   ]
  },
  {
   "cell_type": "markdown",
   "id": "eb113afa",
   "metadata": {},
   "source": [
    "- Arrival time between 4-5 hors have highst price."
   ]
  },
  {
   "cell_type": "code",
   "execution_count": 66,
   "id": "ac2e5af4",
   "metadata": {},
   "outputs": [
    {
     "data": {
      "text/plain": [
       "Index(['Airline', 'Source', 'Destination', 'Additional_Info',\n",
       "       'Month_of_Journey', 'Day_of_Journey'],\n",
       "      dtype='object')"
      ]
     },
     "execution_count": 66,
     "metadata": {},
     "output_type": "execute_result"
    }
   ],
   "source": [
    "Cat_col=train.select_dtypes(include='object').columns\n",
    "Cat_col"
   ]
  },
  {
   "cell_type": "code",
   "execution_count": 67,
   "id": "4e9d63dd",
   "metadata": {},
   "outputs": [
    {
     "data": {
      "text/html": [
       "<div>\n",
       "<style scoped>\n",
       "    .dataframe tbody tr th:only-of-type {\n",
       "        vertical-align: middle;\n",
       "    }\n",
       "\n",
       "    .dataframe tbody tr th {\n",
       "        vertical-align: top;\n",
       "    }\n",
       "\n",
       "    .dataframe thead th {\n",
       "        text-align: right;\n",
       "    }\n",
       "</style>\n",
       "<table border=\"1\" class=\"dataframe\">\n",
       "  <thead>\n",
       "    <tr style=\"text-align: right;\">\n",
       "      <th></th>\n",
       "      <th>Price</th>\n",
       "    </tr>\n",
       "    <tr>\n",
       "      <th>Airline</th>\n",
       "      <th></th>\n",
       "    </tr>\n",
       "  </thead>\n",
       "  <tbody>\n",
       "    <tr>\n",
       "      <th>Jet Airways</th>\n",
       "      <td>42916378</td>\n",
       "    </tr>\n",
       "    <tr>\n",
       "      <th>Air India</th>\n",
       "      <td>16179047</td>\n",
       "    </tr>\n",
       "    <tr>\n",
       "      <th>Multiple carriers</th>\n",
       "      <td>13039603</td>\n",
       "    </tr>\n",
       "    <tr>\n",
       "      <th>IndiGo</th>\n",
       "      <td>11580684</td>\n",
       "    </tr>\n",
       "    <tr>\n",
       "      <th>SpiceJet</th>\n",
       "      <td>3533711</td>\n",
       "    </tr>\n",
       "    <tr>\n",
       "      <th>Air Asia</th>\n",
       "      <td>1783293</td>\n",
       "    </tr>\n",
       "    <tr>\n",
       "      <th>GoAir</th>\n",
       "      <td>1137045</td>\n",
       "    </tr>\n",
       "    <tr>\n",
       "      <th>Jet Airways Business</th>\n",
       "      <td>350152</td>\n",
       "    </tr>\n",
       "    <tr>\n",
       "      <th>Multiple carriers Premium economy</th>\n",
       "      <td>148445</td>\n",
       "    </tr>\n",
       "    <tr>\n",
       "      <th>Trujet</th>\n",
       "      <td>4140</td>\n",
       "    </tr>\n",
       "  </tbody>\n",
       "</table>\n",
       "</div>"
      ],
      "text/plain": [
       "                                      Price\n",
       "Airline                                    \n",
       "Jet Airways                        42916378\n",
       "Air India                          16179047\n",
       "Multiple carriers                  13039603\n",
       "IndiGo                             11580684\n",
       "SpiceJet                            3533711\n",
       "Air Asia                            1783293\n",
       "GoAir                               1137045\n",
       "Jet Airways Business                 350152\n",
       "Multiple carriers Premium economy    148445\n",
       "Trujet                                 4140"
      ]
     },
     "execution_count": 67,
     "metadata": {},
     "output_type": "execute_result"
    }
   ],
   "source": [
    "Airline_top10=train.groupby('Airline')['Price'].sum()[0:10]\n",
    "Airline_top10=Airline_top10.to_frame()\n",
    "Airline_top10=Airline_top10.sort_values('Price',ascending=False)\n",
    "Airline_top10"
   ]
  },
  {
   "cell_type": "code",
   "execution_count": 68,
   "id": "c729c5e8",
   "metadata": {},
   "outputs": [
    {
     "data": {
      "text/plain": [
       "<Axes: xlabel='Price', ylabel='Airline'>"
      ]
     },
     "execution_count": 68,
     "metadata": {},
     "output_type": "execute_result"
    },
    {
     "data": {
      "image/png": "[encoded data removed]",
      "text/plain": [
       "<Figure size 640x480 with 1 Axes>"
      ]
     },
     "metadata": {},
     "output_type": "display_data"
    }
   ],
   "source": [
    "sns.barplot(y=Airline_top10.index[0:15],x=Airline_top10['Price'][0:10],palette='pastel',orient='h')"
   ]
  },
  {
   "cell_type": "markdown",
   "id": "326ca0b0",
   "metadata": {},
   "source": [
    "- JetAirways showing highest price."
   ]
  },
  {
   "cell_type": "code",
   "execution_count": 69,
   "id": "8eea5ff2",
   "metadata": {},
   "outputs": [
    {
     "data": {
      "text/plain": [
       "<Axes: xlabel='Source', ylabel='Price'>"
      ]
     },
     "execution_count": 69,
     "metadata": {},
     "output_type": "execute_result"
    },
    {
     "data": {
      "image/png": "[encoded data removed]",
      "text/plain": [
       "<Figure size 640x480 with 1 Axes>"
      ]
     },
     "metadata": {},
     "output_type": "display_data"
    }
   ],
   "source": [
    "sns.barplot(x='Source',y='Price',data=train)"
   ]
  },
  {
   "cell_type": "markdown",
   "id": "c65fc920",
   "metadata": {},
   "source": [
    "- Delhi source showing highest price more than 10000  then KolKata more that 8000 nd less than 10000."
   ]
  },
  {
   "cell_type": "code",
   "execution_count": 70,
   "id": "84a235fd",
   "metadata": {},
   "outputs": [
    {
     "data": {
      "text/plain": [
       "<Axes: xlabel='Destination', ylabel='Price'>"
      ]
     },
     "execution_count": 70,
     "metadata": {},
     "output_type": "execute_result"
    },
    {
     "data": {
      "image/png": "[encoded data removed]",
      "text/plain": [
       "<Figure size 640x480 with 1 Axes>"
      ]
     },
     "metadata": {},
     "output_type": "display_data"
    }
   ],
   "source": [
    "sns.barplot(data=train,x='Destination',y='Price')"
   ]
  },
  {
   "cell_type": "markdown",
   "id": "93668944",
   "metadata": {},
   "source": [
    "- New Delhi showing highest price of destination with 12000 then Cochin more that 10000 and less than 12000."
   ]
  },
  {
   "cell_type": "code",
   "execution_count": 71,
   "id": "7e946a8a",
   "metadata": {},
   "outputs": [
    {
     "data": {
      "text/plain": [
       "<Axes: xlabel='Total_Stops', ylabel='Price'>"
      ]
     },
     "execution_count": 71,
     "metadata": {},
     "output_type": "execute_result"
    },
    {
     "data": {
      "image/png": "[encoded data removed]",
      "text/plain": [
       "<Figure size 640x480 with 1 Axes>"
      ]
     },
     "metadata": {},
     "output_type": "display_data"
    }
   ],
   "source": [
    "sns.barplot(data=train,x='Total_Stops',y='Price')"
   ]
  },
  {
   "cell_type": "markdown",
   "id": "fd62c0e1",
   "metadata": {},
   "source": [
    "- When Journey stop for 4 times will get high price ."
   ]
  },
  {
   "cell_type": "code",
   "execution_count": 72,
   "id": "0bdebdf3",
   "metadata": {},
   "outputs": [
    {
     "data": {
      "text/plain": [
       "<Axes: xlabel='Month_of_Journey', ylabel='Price'>"
      ]
     },
     "execution_count": 72,
     "metadata": {},
     "output_type": "execute_result"
    },
    {
     "data": {
      "image/png": "[encoded data removed]",
      "text/plain": [
       "<Figure size 500x500 with 1 Axes>"
      ]
     },
     "metadata": {},
     "output_type": "display_data"
    }
   ],
   "source": [
    "fig = plt.figure(figsize= (5,5))\n",
    "sns.barplot(x='Month_of_Journey', y='Price', estimator=np.sum, data=train, palette='rocket',order =['March','April','May','June'])\n"
   ]
  },
  {
   "cell_type": "markdown",
   "id": "0d506550",
   "metadata": {},
   "source": [
    "- May showing highest price."
   ]
  },
  {
   "cell_type": "code",
   "execution_count": 73,
   "id": "c18c7420",
   "metadata": {},
   "outputs": [
    {
     "data": {
      "text/plain": [
       "<Axes: xlabel='Day_of_Journey', ylabel='Price'>"
      ]
     },
     "execution_count": 73,
     "metadata": {},
     "output_type": "execute_result"
    },
    {
     "data": {
      "image/png": "[encoded data removed]",
      "text/plain": [
       "<Figure size 1000x500 with 1 Axes>"
      ]
     },
     "metadata": {},
     "output_type": "display_data"
    }
   ],
   "source": [
    "fig = plt.figure(figsize= (10,5))\n",
    "sns.barplot(x='Day_of_Journey', y='Price', estimator=np.sum, data=train, palette='flare')"
   ]
  },
  {
   "cell_type": "markdown",
   "id": "0ffa46da",
   "metadata": {},
   "source": [
    "- Wednesday showing highest price."
   ]
  },
  {
   "cell_type": "code",
   "execution_count": 74,
   "id": "474df291",
   "metadata": {},
   "outputs": [
    {
     "data": {
      "text/plain": [
       "800"
      ]
     },
     "execution_count": 74,
     "metadata": {},
     "output_type": "execute_result"
    }
   ],
   "source": [
    "train.duplicated().sum()"
   ]
  },
  {
   "cell_type": "code",
   "execution_count": 75,
   "id": "758763e3",
   "metadata": {},
   "outputs": [],
   "source": [
    "train.drop_duplicates(inplace = True)"
   ]
  },
  {
   "cell_type": "markdown",
   "id": "b688bb5e",
   "metadata": {},
   "source": [
    "## Missing values"
   ]
  },
  {
   "cell_type": "code",
   "execution_count": 76,
   "id": "0c62388f",
   "metadata": {},
   "outputs": [
    {
     "data": {
      "text/plain": [
       "Airline             0.00000\n",
       "Source              0.00000\n",
       "Destination         0.00000\n",
       "Dep_Time            0.00000\n",
       "Arrival_Time        0.00000\n",
       "Total_Stops         0.01035\n",
       "Additional_Info     0.00000\n",
       "Price               0.00000\n",
       "Month_of_Journey    0.00000\n",
       "Day_of_Journey      0.00000\n",
       "Duration_min        0.00000\n",
       "dtype: float64"
      ]
     },
     "execution_count": 76,
     "metadata": {},
     "output_type": "execute_result"
    }
   ],
   "source": [
    "train.isnull().mean() *100"
   ]
  },
  {
   "cell_type": "code",
   "execution_count": 77,
   "id": "b2c58cf4",
   "metadata": {},
   "outputs": [],
   "source": [
    "train.dropna(inplace = True)"
   ]
  },
  {
   "cell_type": "code",
   "execution_count": 78,
   "id": "fd4fc7a4",
   "metadata": {},
   "outputs": [
    {
     "data": {
      "text/plain": [
       "Airline             0.0\n",
       "Source              0.0\n",
       "Destination         0.0\n",
       "Dep_Time            0.0\n",
       "Arrival_Time        0.0\n",
       "Total_Stops         0.0\n",
       "Additional_Info     0.0\n",
       "Price               0.0\n",
       "Month_of_Journey    0.0\n",
       "Day_of_Journey      0.0\n",
       "Duration_min        0.0\n",
       "dtype: float64"
      ]
     },
     "execution_count": 78,
     "metadata": {},
     "output_type": "execute_result"
    }
   ],
   "source": [
    "train.isnull().mean()"
   ]
  },
  {
   "cell_type": "code",
   "execution_count": 79,
   "id": "a567e72e",
   "metadata": {},
   "outputs": [],
   "source": [
    "train.reset_index(drop = True , inplace = True)"
   ]
  },
  {
   "cell_type": "code",
   "execution_count": 80,
   "id": "dafd3289",
   "metadata": {},
   "outputs": [
    {
     "data": {
      "text/plain": [
       "Index(['Airline', 'Source', 'Destination', 'Dep_Time', 'Arrival_Time',\n",
       "       'Total_Stops', 'Additional_Info', 'Price', 'Month_of_Journey',\n",
       "       'Day_of_Journey', 'Duration_min'],\n",
       "      dtype='object')"
      ]
     },
     "execution_count": 80,
     "metadata": {},
     "output_type": "execute_result"
    }
   ],
   "source": [
    "col=train.columns  \n",
    "col"
   ]
  },
  {
   "cell_type": "code",
   "execution_count": 81,
   "id": "c44d9699",
   "metadata": {},
   "outputs": [
    {
     "data": {
      "text/plain": [
       "Index(['Airline', 'Source', 'Destination', 'Additional_Info',\n",
       "       'Month_of_Journey', 'Day_of_Journey'],\n",
       "      dtype='object')"
      ]
     },
     "execution_count": 81,
     "metadata": {},
     "output_type": "execute_result"
    }
   ],
   "source": [
    "Cat_col"
   ]
  },
  {
   "cell_type": "code",
   "execution_count": 82,
   "id": "ffe4bae4",
   "metadata": {},
   "outputs": [
    {
     "data": {
      "text/plain": [
       "array(['IndiGo', 'Air India', 'Jet Airways', 'SpiceJet',\n",
       "       'Multiple carriers', 'GoAir', 'Vistara', 'Air Asia',\n",
       "       'Vistara Premium economy', 'Jet Airways Business',\n",
       "       'Multiple carriers Premium economy', 'Trujet'], dtype=object)"
      ]
     },
     "execution_count": 82,
     "metadata": {},
     "output_type": "execute_result"
    }
   ],
   "source": [
    "## feature engineer for Airline. \n",
    "train['Airline'].unique()"
   ]
  },
  {
   "cell_type": "code",
   "execution_count": 83,
   "id": "eb6c1028",
   "metadata": {},
   "outputs": [],
   "source": [
    "train['Airline'] = train['Airline'].str.replace('Jet Airways Business', 'Jet Airways').replace('Vistara Premium economy','Vistara').replace('Multiple carriers Premium economy','Multiple carriers')"
   ]
  },
  {
   "cell_type": "code",
   "execution_count": 84,
   "id": "13150367",
   "metadata": {},
   "outputs": [
    {
     "data": {
      "text/plain": [
       "array(['March', 'May', 'June', 'April'], dtype=object)"
      ]
     },
     "execution_count": 84,
     "metadata": {},
     "output_type": "execute_result"
    }
   ],
   "source": [
    "train['Month_of_Journey'].unique()"
   ]
  },
  {
   "cell_type": "code",
   "execution_count": 85,
   "id": "02a966f2",
   "metadata": {},
   "outputs": [],
   "source": [
    "## copy Data after EDA\n",
    "train_Data = train.copy()"
   ]
  },
  {
   "cell_type": "markdown",
   "id": "01db78e1",
   "metadata": {},
   "source": [
    "## Handle Outliers"
   ]
  },
  {
   "cell_type": "code",
   "execution_count": 86,
   "id": "95538daa",
   "metadata": {},
   "outputs": [
    {
     "data": {
      "text/plain": [
       "Index(['Dep_Time', 'Arrival_Time', 'Total_Stops', 'Price', 'Duration_min'], dtype='object')"
      ]
     },
     "execution_count": 86,
     "metadata": {},
     "output_type": "execute_result"
    }
   ],
   "source": [
    "NUM_cols=train.select_dtypes(include=np.number).columns\n",
    "NUM_cols"
   ]
  },
  {
   "cell_type": "code",
   "execution_count": 87,
   "id": "5ee5a814",
   "metadata": {},
   "outputs": [
    {
     "data": {
      "text/plain": [
       "208"
      ]
     },
     "execution_count": 87,
     "metadata": {},
     "output_type": "execute_result"
    }
   ],
   "source": [
    "\n",
    "from datasist.structdata import detect_outliers\n",
    "## as we find that ourliers in data 208 and that few from data so i will remove it\n",
    "outliers_indices = detect_outliers(train, 0,NUM_cols)\n",
    "len(outliers_indices)"
   ]
  },
  {
   "cell_type": "code",
   "execution_count": 88,
   "id": "459701e0",
   "metadata": {},
   "outputs": [
    {
     "name": "stderr",
     "output_type": "stream",
     "text": [
      "C:\\Users\\Omar.Mohamed\\AppData\\Local\\Temp\\ipykernel_35616\\1749667165.py:4: SettingWithCopyWarning: \n",
      "A value is trying to be set on a copy of a slice from a DataFrame\n",
      "\n",
      "See the caveats in the documentation: https://pandas.pydata.org/pandas-docs/stable/user_guide/indexing.html#returning-a-view-versus-a-copy\n",
      "  train[col].iloc[outliers_indices] = col_median\n",
      "C:\\Users\\Omar.Mohamed\\AppData\\Local\\Temp\\ipykernel_35616\\1749667165.py:4: SettingWithCopyWarning: \n",
      "A value is trying to be set on a copy of a slice from a DataFrame\n",
      "\n",
      "See the caveats in the documentation: https://pandas.pydata.org/pandas-docs/stable/user_guide/indexing.html#returning-a-view-versus-a-copy\n",
      "  train[col].iloc[outliers_indices] = col_median\n",
      "C:\\Users\\Omar.Mohamed\\AppData\\Local\\Temp\\ipykernel_35616\\1749667165.py:4: SettingWithCopyWarning: \n",
      "A value is trying to be set on a copy of a slice from a DataFrame\n",
      "\n",
      "See the caveats in the documentation: https://pandas.pydata.org/pandas-docs/stable/user_guide/indexing.html#returning-a-view-versus-a-copy\n",
      "  train[col].iloc[outliers_indices] = col_median\n",
      "C:\\Users\\Omar.Mohamed\\AppData\\Local\\Temp\\ipykernel_35616\\1749667165.py:4: SettingWithCopyWarning: \n",
      "A value is trying to be set on a copy of a slice from a DataFrame\n",
      "\n",
      "See the caveats in the documentation: https://pandas.pydata.org/pandas-docs/stable/user_guide/indexing.html#returning-a-view-versus-a-copy\n",
      "  train[col].iloc[outliers_indices] = col_median\n",
      "C:\\Users\\Omar.Mohamed\\AppData\\Local\\Temp\\ipykernel_35616\\1749667165.py:4: SettingWithCopyWarning: \n",
      "A value is trying to be set on a copy of a slice from a DataFrame\n",
      "\n",
      "See the caveats in the documentation: https://pandas.pydata.org/pandas-docs/stable/user_guide/indexing.html#returning-a-view-versus-a-copy\n",
      "  train[col].iloc[outliers_indices] = col_median\n"
     ]
    }
   ],
   "source": [
    "for col in NUM_cols:\n",
    "    outliers_indices = detect_outliers(train, 0, [col])\n",
    "    col_median = train[col].median()\n",
    "    train[col].iloc[outliers_indices] = col_median"
   ]
  },
  {
   "cell_type": "code",
   "execution_count": 89,
   "id": "9178db8c",
   "metadata": {},
   "outputs": [
    {
     "data": {
      "text/plain": [
       "Index(['Airline', 'Source', 'Destination', 'Dep_Time', 'Arrival_Time',\n",
       "       'Total_Stops', 'Additional_Info', 'Price', 'Month_of_Journey',\n",
       "       'Day_of_Journey', 'Duration_min'],\n",
       "      dtype='object')"
      ]
     },
     "execution_count": 89,
     "metadata": {},
     "output_type": "execute_result"
    }
   ],
   "source": [
    "train.columns"
   ]
  },
  {
   "cell_type": "code",
   "execution_count": 90,
   "id": "043f571b",
   "metadata": {},
   "outputs": [],
   "source": [
    "train.to_csv(\"flight_out.csv\" , index=False)"
   ]
  },
  {
   "cell_type": "markdown",
   "id": "548bfcef",
   "metadata": {},
   "source": [
    "## Make encoder for catogorical data "
   ]
  },
  {
   "cell_type": "code",
   "execution_count": 91,
   "id": "dfae4b28",
   "metadata": {},
   "outputs": [],
   "source": [
    "Encoder = ColumnTransformer(transformers=[(\"OHE\",OneHotEncoder(sparse=False , drop=\"first\" ), ['Source', 'Destination','Month_of_Journey','Day_of_Journey']) , (\"BE\",BinaryEncoder() , ['Airline','Additional_Info'] )] , remainder = \"passthrough\")"
   ]
  },
  {
   "cell_type": "code",
   "execution_count": 92,
   "id": "529fbe17",
   "metadata": {},
   "outputs": [],
   "source": [
    "steps = []\n",
    "steps.append((\"Encoder\" , Encoder))\n",
    "steps.append((\"Scaler\" , StandardScaler()))\n",
    "steps.append((\"Model\" , LinearRegression()))\n",
    "pipeline_ = Pipeline(steps=steps)"
   ]
  },
  {
   "cell_type": "code",
   "execution_count": 93,
   "id": "17e0e48d",
   "metadata": {},
   "outputs": [],
   "source": [
    "x = train.drop('Price' , axis = 1 )\n",
    "y = train['Price']"
   ]
  },
  {
   "cell_type": "code",
   "execution_count": 94,
   "id": "37f6bc99",
   "metadata": {},
   "outputs": [],
   "source": [
    "from warnings import simplefilter\n",
    "# ignore all future warnings\n",
    "simplefilter(action='ignore', category=FutureWarning)"
   ]
  },
  {
   "cell_type": "code",
   "execution_count": 95,
   "id": "e52aa94b",
   "metadata": {},
   "outputs": [],
   "source": [
    "results = cross_validate(pipeline_ , x ,y , cv = 5 , scoring=\"r2\" , return_train_score=True)"
   ]
  },
  {
   "cell_type": "code",
   "execution_count": 96,
   "id": "3191681a",
   "metadata": {},
   "outputs": [
    {
     "data": {
      "text/plain": [
       "0.6176119499435272"
      ]
     },
     "execution_count": 96,
     "metadata": {},
     "output_type": "execute_result"
    }
   ],
   "source": [
    "results[\"train_score\"].mean()"
   ]
  },
  {
   "cell_type": "code",
   "execution_count": 97,
   "id": "09152713",
   "metadata": {},
   "outputs": [
    {
     "data": {
      "text/plain": [
       "0.6139355069085085"
      ]
     },
     "execution_count": 97,
     "metadata": {},
     "output_type": "execute_result"
    }
   ],
   "source": [
    "results[\"test_score\"].mean()"
   ]
  },
  {
   "cell_type": "code",
   "execution_count": 98,
   "id": "a96d4ec2",
   "metadata": {},
   "outputs": [],
   "source": [
    "from sklearn.ensemble import RandomForestRegressor\n",
    "from xgboost import XGBRegressor\n",
    "from sklearn.tree import DecisionTreeRegressor"
   ]
  },
  {
   "cell_type": "code",
   "execution_count": 99,
   "id": "64395589",
   "metadata": {},
   "outputs": [],
   "source": [
    "models = list()\n",
    "models.append((\"RF\" , RandomForestRegressor()))\n",
    "models.append((\"xg\" , XGBRegressor()))\n",
    "models.append((\"DT\" , DecisionTreeRegressor()))"
   ]
  },
  {
   "cell_type": "code",
   "execution_count": 100,
   "id": "bbddd884",
   "metadata": {},
   "outputs": [],
   "source": [
    "import  warnings "
   ]
  },
  {
   "cell_type": "code",
   "execution_count": 101,
   "id": "2becd7b0",
   "metadata": {},
   "outputs": [],
   "source": [
    "warnings.filterwarnings('ignore')"
   ]
  },
  {
   "cell_type": "code",
   "execution_count": 102,
   "id": "ec764a6a",
   "metadata": {
    "scrolled": true
   },
   "outputs": [
    {
     "name": "stdout",
     "output_type": "stream",
     "text": [
      "RF\n",
      "Train_r2 0.9519433660350668\n",
      "----------\n",
      "Test_r2 0.8050773162586339\n",
      "--------------------\n",
      "\n",
      "\n",
      "xg\n",
      "Train_r2 0.9227142562759036\n",
      "----------\n",
      "Test_r2 0.8253240335056402\n",
      "--------------------\n",
      "\n",
      "\n",
      "DT\n",
      "Train_r2 0.9681772874034646\n",
      "----------\n",
      "Test_r2 0.6993825714922461\n",
      "--------------------\n",
      "\n",
      "\n"
     ]
    }
   ],
   "source": [
    "for model in models:\n",
    "    steps = []\n",
    "    steps.append((\"Encoder\" , Encoder))\n",
    "    steps.append((\"Scaler\" , StandardScaler()))\n",
    "    steps.append(model)\n",
    "    pipeline_ = Pipeline(steps=steps)\n",
    "    scores = cross_validate(pipeline_,x ,y , cv = 5 , scoring=\"r2\" , return_train_score=True)\n",
    "    print(model[0])\n",
    "    print(\"Train_r2\" , scores[\"train_score\"].mean() )\n",
    "    print(\"-\" * 10)\n",
    "    print(\"Test_r2\" , scores[\"test_score\"].mean())\n",
    "    print(\"-\" * 20)\n",
    "    print(\"\\n\")"
   ]
  },
  {
   "cell_type": "markdown",
   "id": "5899aa83",
   "metadata": {},
   "source": [
    "## Hyper-parameter Tuning for GradientBoostingRegressor"
   ]
  },
  {
   "cell_type": "code",
   "execution_count": 103,
   "id": "a7d601a6",
   "metadata": {},
   "outputs": [],
   "source": [
    "from sklearn.model_selection import GridSearchCV"
   ]
  },
  {
   "cell_type": "code",
   "execution_count": 104,
   "id": "7451b35b",
   "metadata": {},
   "outputs": [
    {
     "data": {
      "text/html": [
       "<style>#sk-container-id-1 {color: black;}#sk-container-id-1 pre{padding: 0;}#sk-container-id-1 div.sk-toggleable {background-color: white;}#sk-container-id-1 label.sk-toggleable__label {cursor: pointer;display: block;width: 100%;margin-bottom: 0;padding: 0.3em;box-sizing: border-box;text-align: center;}#sk-container-id-1 label.sk-toggleable__label-arrow:before {content: \"▸\";float: left;margin-right: 0.25em;color: #696969;}#sk-container-id-1 label.sk-toggleable__label-arrow:hover:before {color: black;}#sk-container-id-1 div.sk-estimator:hover label.sk-toggleable__label-arrow:before {color: black;}#sk-container-id-1 div.sk-toggleable__content {max-height: 0;max-width: 0;overflow: hidden;text-align: left;background-color: #f0f8ff;}#sk-container-id-1 div.sk-toggleable__content pre {margin: 0.2em;color: black;border-radius: 0.25em;background-color: #f0f8ff;}#sk-container-id-1 input.sk-toggleable__control:checked~div.sk-toggleable__content {max-height: 200px;max-width: 100%;overflow: auto;}#sk-container-id-1 input.sk-toggleable__control:checked~label.sk-toggleable__label-arrow:before {content: \"▾\";}#sk-container-id-1 div.sk-estimator input.sk-toggleable__control:checked~label.sk-toggleable__label {background-color: #d4ebff;}#sk-container-id-1 div.sk-label input.sk-toggleable__control:checked~label.sk-toggleable__label {background-color: #d4ebff;}#sk-container-id-1 input.sk-hidden--visually {border: 0;clip: rect(1px 1px 1px 1px);clip: rect(1px, 1px, 1px, 1px);height: 1px;margin: -1px;overflow: hidden;padding: 0;position: absolute;width: 1px;}#sk-container-id-1 div.sk-estimator {font-family: monospace;background-color: #f0f8ff;border: 1px dotted black;border-radius: 0.25em;box-sizing: border-box;margin-bottom: 0.5em;}#sk-container-id-1 div.sk-estimator:hover {background-color: #d4ebff;}#sk-container-id-1 div.sk-parallel-item::after {content: \"\";width: 100%;border-bottom: 1px solid gray;flex-grow: 1;}#sk-container-id-1 div.sk-label:hover label.sk-toggleable__label {background-color: #d4ebff;}#sk-container-id-1 div.sk-serial::before {content: \"\";position: absolute;border-left: 1px solid gray;box-sizing: border-box;top: 0;bottom: 0;left: 50%;z-index: 0;}#sk-container-id-1 div.sk-serial {display: flex;flex-direction: column;align-items: center;background-color: white;padding-right: 0.2em;padding-left: 0.2em;position: relative;}#sk-container-id-1 div.sk-item {position: relative;z-index: 1;}#sk-container-id-1 div.sk-parallel {display: flex;align-items: stretch;justify-content: center;background-color: white;position: relative;}#sk-container-id-1 div.sk-item::before, #sk-container-id-1 div.sk-parallel-item::before {content: \"\";position: absolute;border-left: 1px solid gray;box-sizing: border-box;top: 0;bottom: 0;left: 50%;z-index: -1;}#sk-container-id-1 div.sk-parallel-item {display: flex;flex-direction: column;z-index: 1;position: relative;background-color: white;}#sk-container-id-1 div.sk-parallel-item:first-child::after {align-self: flex-end;width: 50%;}#sk-container-id-1 div.sk-parallel-item:last-child::after {align-self: flex-start;width: 50%;}#sk-container-id-1 div.sk-parallel-item:only-child::after {width: 0;}#sk-container-id-1 div.sk-dashed-wrapped {border: 1px dashed gray;margin: 0 0.4em 0.5em 0.4em;box-sizing: border-box;padding-bottom: 0.4em;background-color: white;}#sk-container-id-1 div.sk-label label {font-family: monospace;font-weight: bold;display: inline-block;line-height: 1.2em;}#sk-container-id-1 div.sk-label-container {text-align: center;}#sk-container-id-1 div.sk-container {/* jupyter's `normalize.less` sets `[hidden] { display: none; }` but bootstrap.min.css set `[hidden] { display: none !important; }` so we also need the `!important` here to be able to override the default hidden behavior on the sphinx rendered scikit-learn.org. See: https://github.com/scikit-learn/scikit-learn/issues/21755 */display: inline-block !important;position: relative;}#sk-container-id-1 div.sk-text-repr-fallback {display: none;}</style><div id=\"sk-container-id-1\" class=\"sk-top-container\"><div class=\"sk-text-repr-fallback\"><pre>XGBRegressor(base_score=None, booster=None, callbacks=None,\n",
       "             colsample_bylevel=None, colsample_bynode=None,\n",
       "             colsample_bytree=None, early_stopping_rounds=None,\n",
       "             enable_categorical=False, eval_metric=None, feature_types=None,\n",
       "             gamma=None, gpu_id=None, grow_policy=None, importance_type=None,\n",
       "             interaction_constraints=None, learning_rate=None, max_bin=None,\n",
       "             max_cat_threshold=None, max_cat_to_onehot=None,\n",
       "             max_delta_step=None, max_depth=None, max_leaves=None,\n",
       "             min_child_weight=None, missing=nan, monotone_constraints=None,\n",
       "             n_estimators=100, n_jobs=None, num_parallel_tree=None,\n",
       "             predictor=None, random_state=None, ...)</pre><b>In a Jupyter environment, please rerun this cell to show the HTML representation or trust the notebook. <br />On GitHub, the HTML representation is unable to render, please try loading this page with nbviewer.org.</b></div><div class=\"sk-container\" hidden><div class=\"sk-item\"><div class=\"sk-estimator sk-toggleable\"><input class=\"sk-toggleable__control sk-hidden--visually\" id=\"sk-estimator-id-1\" type=\"checkbox\" checked><label for=\"sk-estimator-id-1\" class=\"sk-toggleable__label sk-toggleable__label-arrow\">XGBRegressor</label><div class=\"sk-toggleable__content\"><pre>XGBRegressor(base_score=None, booster=None, callbacks=None,\n",
       "             colsample_bylevel=None, colsample_bynode=None,\n",
       "             colsample_bytree=None, early_stopping_rounds=None,\n",
       "             enable_categorical=False, eval_metric=None, feature_types=None,\n",
       "             gamma=None, gpu_id=None, grow_policy=None, importance_type=None,\n",
       "             interaction_constraints=None, learning_rate=None, max_bin=None,\n",
       "             max_cat_threshold=None, max_cat_to_onehot=None,\n",
       "             max_delta_step=None, max_depth=None, max_leaves=None,\n",
       "             min_child_weight=None, missing=nan, monotone_constraints=None,\n",
       "             n_estimators=100, n_jobs=None, num_parallel_tree=None,\n",
       "             predictor=None, random_state=None, ...)</pre></div></div></div></div></div>"
      ],
      "text/plain": [
       "XGBRegressor(base_score=None, booster=None, callbacks=None,\n",
       "             colsample_bylevel=None, colsample_bynode=None,\n",
       "             colsample_bytree=None, early_stopping_rounds=None,\n",
       "             enable_categorical=False, eval_metric=None, feature_types=None,\n",
       "             gamma=None, gpu_id=None, grow_policy=None, importance_type=None,\n",
       "             interaction_constraints=None, learning_rate=None, max_bin=None,\n",
       "             max_cat_threshold=None, max_cat_to_onehot=None,\n",
       "             max_delta_step=None, max_depth=None, max_leaves=None,\n",
       "             min_child_weight=None, missing=nan, monotone_constraints=None,\n",
       "             n_estimators=100, n_jobs=None, num_parallel_tree=None,\n",
       "             predictor=None, random_state=None, ...)"
      ]
     },
     "execution_count": 104,
     "metadata": {},
     "output_type": "execute_result"
    }
   ],
   "source": [
    "XGBRegressor()"
   ]
  },
  {
   "cell_type": "code",
   "execution_count": 105,
   "id": "372aae49",
   "metadata": {},
   "outputs": [],
   "source": [
    "params = {\n",
    "    'Model__learning_rate': [0.01, 0.1, 0.2], \n",
    "    'Model__n_estimators': [300,400,500],  \n",
    "    'Model__reg_alpha': [0.01,0.1,0.2,0.9]\n",
    "\n",
    "}"
   ]
  },
  {
   "cell_type": "code",
   "execution_count": 106,
   "id": "4916dbec",
   "metadata": {},
   "outputs": [],
   "source": [
    "steps = []\n",
    "steps.append((\"Encoder\" ,Encoder))\n",
    "steps.append((\"Scaler\" , StandardScaler()))\n",
    "steps.append((\"Model\" , XGBRegressor()))\n",
    "pipeline_ = Pipeline(steps=steps)"
   ]
  },
  {
   "cell_type": "code",
   "execution_count": 107,
   "id": "56c33983",
   "metadata": {},
   "outputs": [
    {
     "data": {
      "text/html": [
       "<style>#sk-container-id-2 {color: black;}#sk-container-id-2 pre{padding: 0;}#sk-container-id-2 div.sk-toggleable {background-color: white;}#sk-container-id-2 label.sk-toggleable__label {cursor: pointer;display: block;width: 100%;margin-bottom: 0;padding: 0.3em;box-sizing: border-box;text-align: center;}#sk-container-id-2 label.sk-toggleable__label-arrow:before {content: \"▸\";float: left;margin-right: 0.25em;color: #696969;}#sk-container-id-2 label.sk-toggleable__label-arrow:hover:before {color: black;}#sk-container-id-2 div.sk-estimator:hover label.sk-toggleable__label-arrow:before {color: black;}#sk-container-id-2 div.sk-toggleable__content {max-height: 0;max-width: 0;overflow: hidden;text-align: left;background-color: #f0f8ff;}#sk-container-id-2 div.sk-toggleable__content pre {margin: 0.2em;color: black;border-radius: 0.25em;background-color: #f0f8ff;}#sk-container-id-2 input.sk-toggleable__control:checked~div.sk-toggleable__content {max-height: 200px;max-width: 100%;overflow: auto;}#sk-container-id-2 input.sk-toggleable__control:checked~label.sk-toggleable__label-arrow:before {content: \"▾\";}#sk-container-id-2 div.sk-estimator input.sk-toggleable__control:checked~label.sk-toggleable__label {background-color: #d4ebff;}#sk-container-id-2 div.sk-label input.sk-toggleable__control:checked~label.sk-toggleable__label {background-color: #d4ebff;}#sk-container-id-2 input.sk-hidden--visually {border: 0;clip: rect(1px 1px 1px 1px);clip: rect(1px, 1px, 1px, 1px);height: 1px;margin: -1px;overflow: hidden;padding: 0;position: absolute;width: 1px;}#sk-container-id-2 div.sk-estimator {font-family: monospace;background-color: #f0f8ff;border: 1px dotted black;border-radius: 0.25em;box-sizing: border-box;margin-bottom: 0.5em;}#sk-container-id-2 div.sk-estimator:hover {background-color: #d4ebff;}#sk-container-id-2 div.sk-parallel-item::after {content: \"\";width: 100%;border-bottom: 1px solid gray;flex-grow: 1;}#sk-container-id-2 div.sk-label:hover label.sk-toggleable__label {background-color: #d4ebff;}#sk-container-id-2 div.sk-serial::before {content: \"\";position: absolute;border-left: 1px solid gray;box-sizing: border-box;top: 0;bottom: 0;left: 50%;z-index: 0;}#sk-container-id-2 div.sk-serial {display: flex;flex-direction: column;align-items: center;background-color: white;padding-right: 0.2em;padding-left: 0.2em;position: relative;}#sk-container-id-2 div.sk-item {position: relative;z-index: 1;}#sk-container-id-2 div.sk-parallel {display: flex;align-items: stretch;justify-content: center;background-color: white;position: relative;}#sk-container-id-2 div.sk-item::before, #sk-container-id-2 div.sk-parallel-item::before {content: \"\";position: absolute;border-left: 1px solid gray;box-sizing: border-box;top: 0;bottom: 0;left: 50%;z-index: -1;}#sk-container-id-2 div.sk-parallel-item {display: flex;flex-direction: column;z-index: 1;position: relative;background-color: white;}#sk-container-id-2 div.sk-parallel-item:first-child::after {align-self: flex-end;width: 50%;}#sk-container-id-2 div.sk-parallel-item:last-child::after {align-self: flex-start;width: 50%;}#sk-container-id-2 div.sk-parallel-item:only-child::after {width: 0;}#sk-container-id-2 div.sk-dashed-wrapped {border: 1px dashed gray;margin: 0 0.4em 0.5em 0.4em;box-sizing: border-box;padding-bottom: 0.4em;background-color: white;}#sk-container-id-2 div.sk-label label {font-family: monospace;font-weight: bold;display: inline-block;line-height: 1.2em;}#sk-container-id-2 div.sk-label-container {text-align: center;}#sk-container-id-2 div.sk-container {/* jupyter's `normalize.less` sets `[hidden] { display: none; }` but bootstrap.min.css set `[hidden] { display: none !important; }` so we also need the `!important` here to be able to override the default hidden behavior on the sphinx rendered scikit-learn.org. See: https://github.com/scikit-learn/scikit-learn/issues/21755 */display: inline-block !important;position: relative;}#sk-container-id-2 div.sk-text-repr-fallback {display: none;}</style><div id=\"sk-container-id-2\" class=\"sk-top-container\"><div class=\"sk-text-repr-fallback\"><pre>GridSearchCV(cv=5,\n",
       "             estimator=Pipeline(steps=[(&#x27;Encoder&#x27;,\n",
       "                                        ColumnTransformer(remainder=&#x27;passthrough&#x27;,\n",
       "                                                          transformers=[(&#x27;OHE&#x27;,\n",
       "                                                                         OneHotEncoder(drop=&#x27;first&#x27;,\n",
       "                                                                                       sparse=False),\n",
       "                                                                         [&#x27;Source&#x27;,\n",
       "                                                                          &#x27;Destination&#x27;,\n",
       "                                                                          &#x27;Month_of_Journey&#x27;,\n",
       "                                                                          &#x27;Day_of_Journey&#x27;]),\n",
       "                                                                        (&#x27;BE&#x27;,\n",
       "                                                                         BinaryEncoder(),\n",
       "                                                                         [&#x27;Airline&#x27;,\n",
       "                                                                          &#x27;Additional_Info&#x27;])])),\n",
       "                                       (&#x27;Scaler&#x27;, StandardScaler()),\n",
       "                                       (&#x27;Model&#x27;,\n",
       "                                        XGBRegressor(base_score=None,\n",
       "                                                     booster...\n",
       "                                                     max_depth=None,\n",
       "                                                     max_leaves=None,\n",
       "                                                     min_child_weight=None,\n",
       "                                                     missing=nan,\n",
       "                                                     monotone_constraints=None,\n",
       "                                                     n_estimators=100,\n",
       "                                                     n_jobs=None,\n",
       "                                                     num_parallel_tree=None,\n",
       "                                                     predictor=None,\n",
       "                                                     random_state=None, ...))]),\n",
       "             n_jobs=-1,\n",
       "             param_grid={&#x27;Model__learning_rate&#x27;: [0.01, 0.1, 0.2],\n",
       "                         &#x27;Model__n_estimators&#x27;: [300, 400, 500],\n",
       "                         &#x27;Model__reg_alpha&#x27;: [0.01, 0.1, 0.2, 0.9]},\n",
       "             return_train_score=True, scoring=&#x27;r2&#x27;)</pre><b>In a Jupyter environment, please rerun this cell to show the HTML representation or trust the notebook. <br />On GitHub, the HTML representation is unable to render, please try loading this page with nbviewer.org.</b></div><div class=\"sk-container\" hidden><div class=\"sk-item sk-dashed-wrapped\"><div class=\"sk-label-container\"><div class=\"sk-label sk-toggleable\"><input class=\"sk-toggleable__control sk-hidden--visually\" id=\"sk-estimator-id-2\" type=\"checkbox\" ><label for=\"sk-estimator-id-2\" class=\"sk-toggleable__label sk-toggleable__label-arrow\">GridSearchCV</label><div class=\"sk-toggleable__content\"><pre>GridSearchCV(cv=5,\n",
       "             estimator=Pipeline(steps=[(&#x27;Encoder&#x27;,\n",
       "                                        ColumnTransformer(remainder=&#x27;passthrough&#x27;,\n",
       "                                                          transformers=[(&#x27;OHE&#x27;,\n",
       "                                                                         OneHotEncoder(drop=&#x27;first&#x27;,\n",
       "                                                                                       sparse=False),\n",
       "                                                                         [&#x27;Source&#x27;,\n",
       "                                                                          &#x27;Destination&#x27;,\n",
       "                                                                          &#x27;Month_of_Journey&#x27;,\n",
       "                                                                          &#x27;Day_of_Journey&#x27;]),\n",
       "                                                                        (&#x27;BE&#x27;,\n",
       "                                                                         BinaryEncoder(),\n",
       "                                                                         [&#x27;Airline&#x27;,\n",
       "                                                                          &#x27;Additional_Info&#x27;])])),\n",
       "                                       (&#x27;Scaler&#x27;, StandardScaler()),\n",
       "                                       (&#x27;Model&#x27;,\n",
       "                                        XGBRegressor(base_score=None,\n",
       "                                                     booster...\n",
       "                                                     max_depth=None,\n",
       "                                                     max_leaves=None,\n",
       "                                                     min_child_weight=None,\n",
       "                                                     missing=nan,\n",
       "                                                     monotone_constraints=None,\n",
       "                                                     n_estimators=100,\n",
       "                                                     n_jobs=None,\n",
       "                                                     num_parallel_tree=None,\n",
       "                                                     predictor=None,\n",
       "                                                     random_state=None, ...))]),\n",
       "             n_jobs=-1,\n",
       "             param_grid={&#x27;Model__learning_rate&#x27;: [0.01, 0.1, 0.2],\n",
       "                         &#x27;Model__n_estimators&#x27;: [300, 400, 500],\n",
       "                         &#x27;Model__reg_alpha&#x27;: [0.01, 0.1, 0.2, 0.9]},\n",
       "             return_train_score=True, scoring=&#x27;r2&#x27;)</pre></div></div></div><div class=\"sk-parallel\"><div class=\"sk-parallel-item\"><div class=\"sk-item\"><div class=\"sk-label-container\"><div class=\"sk-label sk-toggleable\"><input class=\"sk-toggleable__control sk-hidden--visually\" id=\"sk-estimator-id-3\" type=\"checkbox\" ><label for=\"sk-estimator-id-3\" class=\"sk-toggleable__label sk-toggleable__label-arrow\">estimator: Pipeline</label><div class=\"sk-toggleable__content\"><pre>Pipeline(steps=[(&#x27;Encoder&#x27;,\n",
       "                 ColumnTransformer(remainder=&#x27;passthrough&#x27;,\n",
       "                                   transformers=[(&#x27;OHE&#x27;,\n",
       "                                                  OneHotEncoder(drop=&#x27;first&#x27;,\n",
       "                                                                sparse=False),\n",
       "                                                  [&#x27;Source&#x27;, &#x27;Destination&#x27;,\n",
       "                                                   &#x27;Month_of_Journey&#x27;,\n",
       "                                                   &#x27;Day_of_Journey&#x27;]),\n",
       "                                                 (&#x27;BE&#x27;, BinaryEncoder(),\n",
       "                                                  [&#x27;Airline&#x27;,\n",
       "                                                   &#x27;Additional_Info&#x27;])])),\n",
       "                (&#x27;Scaler&#x27;, StandardScaler()),\n",
       "                (&#x27;Model&#x27;,\n",
       "                 XGBRegressor(base_score=None, booster=None, callbacks=None,\n",
       "                              colsamp...\n",
       "                              feature_types=None, gamma=None, gpu_id=None,\n",
       "                              grow_policy=None, importance_type=None,\n",
       "                              interaction_constraints=None, learning_rate=None,\n",
       "                              max_bin=None, max_cat_threshold=None,\n",
       "                              max_cat_to_onehot=None, max_delta_step=None,\n",
       "                              max_depth=None, max_leaves=None,\n",
       "                              min_child_weight=None, missing=nan,\n",
       "                              monotone_constraints=None, n_estimators=100,\n",
       "                              n_jobs=None, num_parallel_tree=None,\n",
       "                              predictor=None, random_state=None, ...))])</pre></div></div></div><div class=\"sk-serial\"><div class=\"sk-item\"><div class=\"sk-serial\"><div class=\"sk-item sk-dashed-wrapped\"><div class=\"sk-label-container\"><div class=\"sk-label sk-toggleable\"><input class=\"sk-toggleable__control sk-hidden--visually\" id=\"sk-estimator-id-4\" type=\"checkbox\" ><label for=\"sk-estimator-id-4\" class=\"sk-toggleable__label sk-toggleable__label-arrow\">Encoder: ColumnTransformer</label><div class=\"sk-toggleable__content\"><pre>ColumnTransformer(remainder=&#x27;passthrough&#x27;,\n",
       "                  transformers=[(&#x27;OHE&#x27;,\n",
       "                                 OneHotEncoder(drop=&#x27;first&#x27;, sparse=False),\n",
       "                                 [&#x27;Source&#x27;, &#x27;Destination&#x27;, &#x27;Month_of_Journey&#x27;,\n",
       "                                  &#x27;Day_of_Journey&#x27;]),\n",
       "                                (&#x27;BE&#x27;, BinaryEncoder(),\n",
       "                                 [&#x27;Airline&#x27;, &#x27;Additional_Info&#x27;])])</pre></div></div></div><div class=\"sk-parallel\"><div class=\"sk-parallel-item\"><div class=\"sk-item\"><div class=\"sk-label-container\"><div class=\"sk-label sk-toggleable\"><input class=\"sk-toggleable__control sk-hidden--visually\" id=\"sk-estimator-id-5\" type=\"checkbox\" ><label for=\"sk-estimator-id-5\" class=\"sk-toggleable__label sk-toggleable__label-arrow\">OHE</label><div class=\"sk-toggleable__content\"><pre>[&#x27;Source&#x27;, &#x27;Destination&#x27;, &#x27;Month_of_Journey&#x27;, &#x27;Day_of_Journey&#x27;]</pre></div></div></div><div class=\"sk-serial\"><div class=\"sk-item\"><div class=\"sk-estimator sk-toggleable\"><input class=\"sk-toggleable__control sk-hidden--visually\" id=\"sk-estimator-id-6\" type=\"checkbox\" ><label for=\"sk-estimator-id-6\" class=\"sk-toggleable__label sk-toggleable__label-arrow\">OneHotEncoder</label><div class=\"sk-toggleable__content\"><pre>OneHotEncoder(drop=&#x27;first&#x27;, sparse=False)</pre></div></div></div></div></div></div><div class=\"sk-parallel-item\"><div class=\"sk-item\"><div class=\"sk-label-container\"><div class=\"sk-label sk-toggleable\"><input class=\"sk-toggleable__control sk-hidden--visually\" id=\"sk-estimator-id-7\" type=\"checkbox\" ><label for=\"sk-estimator-id-7\" class=\"sk-toggleable__label sk-toggleable__label-arrow\">BE</label><div class=\"sk-toggleable__content\"><pre>[&#x27;Airline&#x27;, &#x27;Additional_Info&#x27;]</pre></div></div></div><div class=\"sk-serial\"><div class=\"sk-item\"><div class=\"sk-estimator sk-toggleable\"><input class=\"sk-toggleable__control sk-hidden--visually\" id=\"sk-estimator-id-8\" type=\"checkbox\" ><label for=\"sk-estimator-id-8\" class=\"sk-toggleable__label sk-toggleable__label-arrow\">BinaryEncoder</label><div class=\"sk-toggleable__content\"><pre>BinaryEncoder()</pre></div></div></div></div></div></div><div class=\"sk-parallel-item\"><div class=\"sk-item\"><div class=\"sk-label-container\"><div class=\"sk-label sk-toggleable\"><input class=\"sk-toggleable__control sk-hidden--visually\" id=\"sk-estimator-id-9\" type=\"checkbox\" ><label for=\"sk-estimator-id-9\" class=\"sk-toggleable__label sk-toggleable__label-arrow\">remainder</label><div class=\"sk-toggleable__content\"><pre></pre></div></div></div><div class=\"sk-serial\"><div class=\"sk-item\"><div class=\"sk-estimator sk-toggleable\"><input class=\"sk-toggleable__control sk-hidden--visually\" id=\"sk-estimator-id-10\" type=\"checkbox\" ><label for=\"sk-estimator-id-10\" class=\"sk-toggleable__label sk-toggleable__label-arrow\">passthrough</label><div class=\"sk-toggleable__content\"><pre>passthrough</pre></div></div></div></div></div></div></div></div><div class=\"sk-item\"><div class=\"sk-estimator sk-toggleable\"><input class=\"sk-toggleable__control sk-hidden--visually\" id=\"sk-estimator-id-11\" type=\"checkbox\" ><label for=\"sk-estimator-id-11\" class=\"sk-toggleable__label sk-toggleable__label-arrow\">StandardScaler</label><div class=\"sk-toggleable__content\"><pre>StandardScaler()</pre></div></div></div><div class=\"sk-item\"><div class=\"sk-estimator sk-toggleable\"><input class=\"sk-toggleable__control sk-hidden--visually\" id=\"sk-estimator-id-12\" type=\"checkbox\" ><label for=\"sk-estimator-id-12\" class=\"sk-toggleable__label sk-toggleable__label-arrow\">XGBRegressor</label><div class=\"sk-toggleable__content\"><pre>XGBRegressor(base_score=None, booster=None, callbacks=None,\n",
       "             colsample_bylevel=None, colsample_bynode=None,\n",
       "             colsample_bytree=None, early_stopping_rounds=None,\n",
       "             enable_categorical=False, eval_metric=None, feature_types=None,\n",
       "             gamma=None, gpu_id=None, grow_policy=None, importance_type=None,\n",
       "             interaction_constraints=None, learning_rate=None, max_bin=None,\n",
       "             max_cat_threshold=None, max_cat_to_onehot=None,\n",
       "             max_delta_step=None, max_depth=None, max_leaves=None,\n",
       "             min_child_weight=None, missing=nan, monotone_constraints=None,\n",
       "             n_estimators=100, n_jobs=None, num_parallel_tree=None,\n",
       "             predictor=None, random_state=None, ...)</pre></div></div></div></div></div></div></div></div></div></div></div></div>"
      ],
      "text/plain": [
       "GridSearchCV(cv=5,\n",
       "             estimator=Pipeline(steps=[('Encoder',\n",
       "                                        ColumnTransformer(remainder='passthrough',\n",
       "                                                          transformers=[('OHE',\n",
       "                                                                         OneHotEncoder(drop='first',\n",
       "                                                                                       sparse=False),\n",
       "                                                                         ['Source',\n",
       "                                                                          'Destination',\n",
       "                                                                          'Month_of_Journey',\n",
       "                                                                          'Day_of_Journey']),\n",
       "                                                                        ('BE',\n",
       "                                                                         BinaryEncoder(),\n",
       "                                                                         ['Airline',\n",
       "                                                                          'Additional_Info'])])),\n",
       "                                       ('Scaler', StandardScaler()),\n",
       "                                       ('Model',\n",
       "                                        XGBRegressor(base_score=None,\n",
       "                                                     booster...\n",
       "                                                     max_depth=None,\n",
       "                                                     max_leaves=None,\n",
       "                                                     min_child_weight=None,\n",
       "                                                     missing=nan,\n",
       "                                                     monotone_constraints=None,\n",
       "                                                     n_estimators=100,\n",
       "                                                     n_jobs=None,\n",
       "                                                     num_parallel_tree=None,\n",
       "                                                     predictor=None,\n",
       "                                                     random_state=None, ...))]),\n",
       "             n_jobs=-1,\n",
       "             param_grid={'Model__learning_rate': [0.01, 0.1, 0.2],\n",
       "                         'Model__n_estimators': [300, 400, 500],\n",
       "                         'Model__reg_alpha': [0.01, 0.1, 0.2, 0.9]},\n",
       "             return_train_score=True, scoring='r2')"
      ]
     },
     "execution_count": 107,
     "metadata": {},
     "output_type": "execute_result"
    }
   ],
   "source": [
    "grid_search = GridSearchCV(estimator=pipeline_ , param_grid=params, cv =5 ,scoring=\"r2\" , return_train_score=True , n_jobs = -1)\n",
    "grid_search.fit(x,y)"
   ]
  },
  {
   "cell_type": "code",
   "execution_count": 108,
   "id": "91cb71d4",
   "metadata": {},
   "outputs": [
    {
     "data": {
      "text/plain": [
       "{'Model__learning_rate': 0.1,\n",
       " 'Model__n_estimators': 300,\n",
       " 'Model__reg_alpha': 0.01}"
      ]
     },
     "execution_count": 108,
     "metadata": {},
     "output_type": "execute_result"
    }
   ],
   "source": [
    "grid_search.best_params_"
   ]
  },
  {
   "cell_type": "code",
   "execution_count": 109,
   "id": "e72f3b82",
   "metadata": {},
   "outputs": [
    {
     "data": {
      "text/plain": [
       "89.74716898034914"
      ]
     },
     "execution_count": 109,
     "metadata": {},
     "output_type": "execute_result"
    }
   ],
   "source": [
    "grid_search.cv_results_[\"mean_train_score\"].mean()*100"
   ]
  },
  {
   "cell_type": "code",
   "execution_count": 110,
   "id": "477cdd25",
   "metadata": {},
   "outputs": [
    {
     "data": {
      "text/plain": [
       "80.56012023481557"
      ]
     },
     "execution_count": 110,
     "metadata": {},
     "output_type": "execute_result"
    }
   ],
   "source": [
    "grid_search.cv_results_[\"mean_test_score\"].mean()*100"
   ]
  },
  {
   "cell_type": "code",
   "execution_count": 111,
   "id": "a9488b72",
   "metadata": {},
   "outputs": [
    {
     "data": {
      "text/html": [
       "<style>#sk-container-id-3 {color: black;}#sk-container-id-3 pre{padding: 0;}#sk-container-id-3 div.sk-toggleable {background-color: white;}#sk-container-id-3 label.sk-toggleable__label {cursor: pointer;display: block;width: 100%;margin-bottom: 0;padding: 0.3em;box-sizing: border-box;text-align: center;}#sk-container-id-3 label.sk-toggleable__label-arrow:before {content: \"▸\";float: left;margin-right: 0.25em;color: #696969;}#sk-container-id-3 label.sk-toggleable__label-arrow:hover:before {color: black;}#sk-container-id-3 div.sk-estimator:hover label.sk-toggleable__label-arrow:before {color: black;}#sk-container-id-3 div.sk-toggleable__content {max-height: 0;max-width: 0;overflow: hidden;text-align: left;background-color: #f0f8ff;}#sk-container-id-3 div.sk-toggleable__content pre {margin: 0.2em;color: black;border-radius: 0.25em;background-color: #f0f8ff;}#sk-container-id-3 input.sk-toggleable__control:checked~div.sk-toggleable__content {max-height: 200px;max-width: 100%;overflow: auto;}#sk-container-id-3 input.sk-toggleable__control:checked~label.sk-toggleable__label-arrow:before {content: \"▾\";}#sk-container-id-3 div.sk-estimator input.sk-toggleable__control:checked~label.sk-toggleable__label {background-color: #d4ebff;}#sk-container-id-3 div.sk-label input.sk-toggleable__control:checked~label.sk-toggleable__label {background-color: #d4ebff;}#sk-container-id-3 input.sk-hidden--visually {border: 0;clip: rect(1px 1px 1px 1px);clip: rect(1px, 1px, 1px, 1px);height: 1px;margin: -1px;overflow: hidden;padding: 0;position: absolute;width: 1px;}#sk-container-id-3 div.sk-estimator {font-family: monospace;background-color: #f0f8ff;border: 1px dotted black;border-radius: 0.25em;box-sizing: border-box;margin-bottom: 0.5em;}#sk-container-id-3 div.sk-estimator:hover {background-color: #d4ebff;}#sk-container-id-3 div.sk-parallel-item::after {content: \"\";width: 100%;border-bottom: 1px solid gray;flex-grow: 1;}#sk-container-id-3 div.sk-label:hover label.sk-toggleable__label {background-color: #d4ebff;}#sk-container-id-3 div.sk-serial::before {content: \"\";position: absolute;border-left: 1px solid gray;box-sizing: border-box;top: 0;bottom: 0;left: 50%;z-index: 0;}#sk-container-id-3 div.sk-serial {display: flex;flex-direction: column;align-items: center;background-color: white;padding-right: 0.2em;padding-left: 0.2em;position: relative;}#sk-container-id-3 div.sk-item {position: relative;z-index: 1;}#sk-container-id-3 div.sk-parallel {display: flex;align-items: stretch;justify-content: center;background-color: white;position: relative;}#sk-container-id-3 div.sk-item::before, #sk-container-id-3 div.sk-parallel-item::before {content: \"\";position: absolute;border-left: 1px solid gray;box-sizing: border-box;top: 0;bottom: 0;left: 50%;z-index: -1;}#sk-container-id-3 div.sk-parallel-item {display: flex;flex-direction: column;z-index: 1;position: relative;background-color: white;}#sk-container-id-3 div.sk-parallel-item:first-child::after {align-self: flex-end;width: 50%;}#sk-container-id-3 div.sk-parallel-item:last-child::after {align-self: flex-start;width: 50%;}#sk-container-id-3 div.sk-parallel-item:only-child::after {width: 0;}#sk-container-id-3 div.sk-dashed-wrapped {border: 1px dashed gray;margin: 0 0.4em 0.5em 0.4em;box-sizing: border-box;padding-bottom: 0.4em;background-color: white;}#sk-container-id-3 div.sk-label label {font-family: monospace;font-weight: bold;display: inline-block;line-height: 1.2em;}#sk-container-id-3 div.sk-label-container {text-align: center;}#sk-container-id-3 div.sk-container {/* jupyter's `normalize.less` sets `[hidden] { display: none; }` but bootstrap.min.css set `[hidden] { display: none !important; }` so we also need the `!important` here to be able to override the default hidden behavior on the sphinx rendered scikit-learn.org. See: https://github.com/scikit-learn/scikit-learn/issues/21755 */display: inline-block !important;position: relative;}#sk-container-id-3 div.sk-text-repr-fallback {display: none;}</style><div id=\"sk-container-id-3\" class=\"sk-top-container\"><div class=\"sk-text-repr-fallback\"><pre>Pipeline(steps=[(&#x27;Encoder&#x27;,\n",
       "                 ColumnTransformer(remainder=&#x27;passthrough&#x27;,\n",
       "                                   transformers=[(&#x27;OHE&#x27;,\n",
       "                                                  OneHotEncoder(drop=&#x27;first&#x27;,\n",
       "                                                                sparse=False),\n",
       "                                                  [&#x27;Source&#x27;, &#x27;Destination&#x27;,\n",
       "                                                   &#x27;Month_of_Journey&#x27;,\n",
       "                                                   &#x27;Day_of_Journey&#x27;]),\n",
       "                                                 (&#x27;BE&#x27;, BinaryEncoder(),\n",
       "                                                  [&#x27;Airline&#x27;,\n",
       "                                                   &#x27;Additional_Info&#x27;])])),\n",
       "                (&#x27;Scaler&#x27;, StandardScaler()),\n",
       "                (&#x27;Model&#x27;,\n",
       "                 XGBRegressor(base_score=None, booster=None, callbacks=None,\n",
       "                              colsamp...\n",
       "                              feature_types=None, gamma=None, gpu_id=None,\n",
       "                              grow_policy=None, importance_type=None,\n",
       "                              interaction_constraints=None, learning_rate=0.1,\n",
       "                              max_bin=None, max_cat_threshold=None,\n",
       "                              max_cat_to_onehot=None, max_delta_step=None,\n",
       "                              max_depth=None, max_leaves=None,\n",
       "                              min_child_weight=None, missing=nan,\n",
       "                              monotone_constraints=None, n_estimators=300,\n",
       "                              n_jobs=None, num_parallel_tree=None,\n",
       "                              predictor=None, random_state=None, ...))])</pre><b>In a Jupyter environment, please rerun this cell to show the HTML representation or trust the notebook. <br />On GitHub, the HTML representation is unable to render, please try loading this page with nbviewer.org.</b></div><div class=\"sk-container\" hidden><div class=\"sk-item sk-dashed-wrapped\"><div class=\"sk-label-container\"><div class=\"sk-label sk-toggleable\"><input class=\"sk-toggleable__control sk-hidden--visually\" id=\"sk-estimator-id-13\" type=\"checkbox\" ><label for=\"sk-estimator-id-13\" class=\"sk-toggleable__label sk-toggleable__label-arrow\">Pipeline</label><div class=\"sk-toggleable__content\"><pre>Pipeline(steps=[(&#x27;Encoder&#x27;,\n",
       "                 ColumnTransformer(remainder=&#x27;passthrough&#x27;,\n",
       "                                   transformers=[(&#x27;OHE&#x27;,\n",
       "                                                  OneHotEncoder(drop=&#x27;first&#x27;,\n",
       "                                                                sparse=False),\n",
       "                                                  [&#x27;Source&#x27;, &#x27;Destination&#x27;,\n",
       "                                                   &#x27;Month_of_Journey&#x27;,\n",
       "                                                   &#x27;Day_of_Journey&#x27;]),\n",
       "                                                 (&#x27;BE&#x27;, BinaryEncoder(),\n",
       "                                                  [&#x27;Airline&#x27;,\n",
       "                                                   &#x27;Additional_Info&#x27;])])),\n",
       "                (&#x27;Scaler&#x27;, StandardScaler()),\n",
       "                (&#x27;Model&#x27;,\n",
       "                 XGBRegressor(base_score=None, booster=None, callbacks=None,\n",
       "                              colsamp...\n",
       "                              feature_types=None, gamma=None, gpu_id=None,\n",
       "                              grow_policy=None, importance_type=None,\n",
       "                              interaction_constraints=None, learning_rate=0.1,\n",
       "                              max_bin=None, max_cat_threshold=None,\n",
       "                              max_cat_to_onehot=None, max_delta_step=None,\n",
       "                              max_depth=None, max_leaves=None,\n",
       "                              min_child_weight=None, missing=nan,\n",
       "                              monotone_constraints=None, n_estimators=300,\n",
       "                              n_jobs=None, num_parallel_tree=None,\n",
       "                              predictor=None, random_state=None, ...))])</pre></div></div></div><div class=\"sk-serial\"><div class=\"sk-item sk-dashed-wrapped\"><div class=\"sk-label-container\"><div class=\"sk-label sk-toggleable\"><input class=\"sk-toggleable__control sk-hidden--visually\" id=\"sk-estimator-id-14\" type=\"checkbox\" ><label for=\"sk-estimator-id-14\" class=\"sk-toggleable__label sk-toggleable__label-arrow\">Encoder: ColumnTransformer</label><div class=\"sk-toggleable__content\"><pre>ColumnTransformer(remainder=&#x27;passthrough&#x27;,\n",
       "                  transformers=[(&#x27;OHE&#x27;,\n",
       "                                 OneHotEncoder(drop=&#x27;first&#x27;, sparse=False),\n",
       "                                 [&#x27;Source&#x27;, &#x27;Destination&#x27;, &#x27;Month_of_Journey&#x27;,\n",
       "                                  &#x27;Day_of_Journey&#x27;]),\n",
       "                                (&#x27;BE&#x27;, BinaryEncoder(),\n",
       "                                 [&#x27;Airline&#x27;, &#x27;Additional_Info&#x27;])])</pre></div></div></div><div class=\"sk-parallel\"><div class=\"sk-parallel-item\"><div class=\"sk-item\"><div class=\"sk-label-container\"><div class=\"sk-label sk-toggleable\"><input class=\"sk-toggleable__control sk-hidden--visually\" id=\"sk-estimator-id-15\" type=\"checkbox\" ><label for=\"sk-estimator-id-15\" class=\"sk-toggleable__label sk-toggleable__label-arrow\">OHE</label><div class=\"sk-toggleable__content\"><pre>[&#x27;Source&#x27;, &#x27;Destination&#x27;, &#x27;Month_of_Journey&#x27;, &#x27;Day_of_Journey&#x27;]</pre></div></div></div><div class=\"sk-serial\"><div class=\"sk-item\"><div class=\"sk-estimator sk-toggleable\"><input class=\"sk-toggleable__control sk-hidden--visually\" id=\"sk-estimator-id-16\" type=\"checkbox\" ><label for=\"sk-estimator-id-16\" class=\"sk-toggleable__label sk-toggleable__label-arrow\">OneHotEncoder</label><div class=\"sk-toggleable__content\"><pre>OneHotEncoder(drop=&#x27;first&#x27;, sparse=False)</pre></div></div></div></div></div></div><div class=\"sk-parallel-item\"><div class=\"sk-item\"><div class=\"sk-label-container\"><div class=\"sk-label sk-toggleable\"><input class=\"sk-toggleable__control sk-hidden--visually\" id=\"sk-estimator-id-17\" type=\"checkbox\" ><label for=\"sk-estimator-id-17\" class=\"sk-toggleable__label sk-toggleable__label-arrow\">BE</label><div class=\"sk-toggleable__content\"><pre>[&#x27;Airline&#x27;, &#x27;Additional_Info&#x27;]</pre></div></div></div><div class=\"sk-serial\"><div class=\"sk-item\"><div class=\"sk-estimator sk-toggleable\"><input class=\"sk-toggleable__control sk-hidden--visually\" id=\"sk-estimator-id-18\" type=\"checkbox\" ><label for=\"sk-estimator-id-18\" class=\"sk-toggleable__label sk-toggleable__label-arrow\">BinaryEncoder</label><div class=\"sk-toggleable__content\"><pre>BinaryEncoder()</pre></div></div></div></div></div></div><div class=\"sk-parallel-item\"><div class=\"sk-item\"><div class=\"sk-label-container\"><div class=\"sk-label sk-toggleable\"><input class=\"sk-toggleable__control sk-hidden--visually\" id=\"sk-estimator-id-19\" type=\"checkbox\" ><label for=\"sk-estimator-id-19\" class=\"sk-toggleable__label sk-toggleable__label-arrow\">remainder</label><div class=\"sk-toggleable__content\"><pre>[&#x27;Dep_Time&#x27;, &#x27;Arrival_Time&#x27;, &#x27;Total_Stops&#x27;, &#x27;Duration_min&#x27;]</pre></div></div></div><div class=\"sk-serial\"><div class=\"sk-item\"><div class=\"sk-estimator sk-toggleable\"><input class=\"sk-toggleable__control sk-hidden--visually\" id=\"sk-estimator-id-20\" type=\"checkbox\" ><label for=\"sk-estimator-id-20\" class=\"sk-toggleable__label sk-toggleable__label-arrow\">passthrough</label><div class=\"sk-toggleable__content\"><pre>passthrough</pre></div></div></div></div></div></div></div></div><div class=\"sk-item\"><div class=\"sk-estimator sk-toggleable\"><input class=\"sk-toggleable__control sk-hidden--visually\" id=\"sk-estimator-id-21\" type=\"checkbox\" ><label for=\"sk-estimator-id-21\" class=\"sk-toggleable__label sk-toggleable__label-arrow\">StandardScaler</label><div class=\"sk-toggleable__content\"><pre>StandardScaler()</pre></div></div></div><div class=\"sk-item\"><div class=\"sk-estimator sk-toggleable\"><input class=\"sk-toggleable__control sk-hidden--visually\" id=\"sk-estimator-id-22\" type=\"checkbox\" ><label for=\"sk-estimator-id-22\" class=\"sk-toggleable__label sk-toggleable__label-arrow\">XGBRegressor</label><div class=\"sk-toggleable__content\"><pre>XGBRegressor(base_score=None, booster=None, callbacks=None,\n",
       "             colsample_bylevel=None, colsample_bynode=None,\n",
       "             colsample_bytree=None, early_stopping_rounds=None,\n",
       "             enable_categorical=False, eval_metric=None, feature_types=None,\n",
       "             gamma=None, gpu_id=None, grow_policy=None, importance_type=None,\n",
       "             interaction_constraints=None, learning_rate=0.1, max_bin=None,\n",
       "             max_cat_threshold=None, max_cat_to_onehot=None,\n",
       "             max_delta_step=None, max_depth=None, max_leaves=None,\n",
       "             min_child_weight=None, missing=nan, monotone_constraints=None,\n",
       "             n_estimators=300, n_jobs=None, num_parallel_tree=None,\n",
       "             predictor=None, random_state=None, ...)</pre></div></div></div></div></div></div></div>"
      ],
      "text/plain": [
       "Pipeline(steps=[('Encoder',\n",
       "                 ColumnTransformer(remainder='passthrough',\n",
       "                                   transformers=[('OHE',\n",
       "                                                  OneHotEncoder(drop='first',\n",
       "                                                                sparse=False),\n",
       "                                                  ['Source', 'Destination',\n",
       "                                                   'Month_of_Journey',\n",
       "                                                   'Day_of_Journey']),\n",
       "                                                 ('BE', BinaryEncoder(),\n",
       "                                                  ['Airline',\n",
       "                                                   'Additional_Info'])])),\n",
       "                ('Scaler', StandardScaler()),\n",
       "                ('Model',\n",
       "                 XGBRegressor(base_score=None, booster=None, callbacks=None,\n",
       "                              colsamp...\n",
       "                              feature_types=None, gamma=None, gpu_id=None,\n",
       "                              grow_policy=None, importance_type=None,\n",
       "                              interaction_constraints=None, learning_rate=0.1,\n",
       "                              max_bin=None, max_cat_threshold=None,\n",
       "                              max_cat_to_onehot=None, max_delta_step=None,\n",
       "                              max_depth=None, max_leaves=None,\n",
       "                              min_child_weight=None, missing=nan,\n",
       "                              monotone_constraints=None, n_estimators=300,\n",
       "                              n_jobs=None, num_parallel_tree=None,\n",
       "                              predictor=None, random_state=None, ...))])"
      ]
     },
     "execution_count": 111,
     "metadata": {},
     "output_type": "execute_result"
    }
   ],
   "source": [
    "grid_search.best_estimator_"
   ]
  },
  {
   "cell_type": "code",
   "execution_count": 112,
   "id": "3e5c4fd1",
   "metadata": {},
   "outputs": [],
   "source": [
    "final_model = grid_search.best_estimator_"
   ]
  },
  {
   "cell_type": "code",
   "execution_count": 113,
   "id": "16adf778",
   "metadata": {},
   "outputs": [],
   "source": [
    "\n",
    "import joblib"
   ]
  },
  {
   "cell_type": "code",
   "execution_count": 114,
   "id": "dc7ce489",
   "metadata": {},
   "outputs": [
    {
     "data": {
      "text/plain": [
       "['Inputs.pkl']"
      ]
     },
     "execution_count": 114,
     "metadata": {},
     "output_type": "execute_result"
    }
   ],
   "source": [
    "\n",
    "joblib.dump(final_model , \"Model.pkl\")\n",
    "joblib.dump(x.columns , \"Inputs.pkl\")"
   ]
  },
  {
   "cell_type": "code",
   "execution_count": 115,
   "id": "1572c5a5",
   "metadata": {},
   "outputs": [],
   "source": [
    "\n",
    "import streamlit as st"
   ]
  },
  {
   "cell_type": "code",
   "execution_count": 116,
   "id": "01788258",
   "metadata": {},
   "outputs": [
    {
     "name": "stdout",
     "output_type": "stream",
     "text": [
      "Overwriting streamlit_app_3rd.py\n"
     ]
    }
   ],
   "source": [
    "\n",
    "%%writefile streamlit_app_3rd.py\n",
    "import streamlit as st\n",
    "import pandas as pd\n",
    "import joblib\n",
    "import category_encoders\n",
    "import sklearn\n",
    "from xgboost import XGBRegressor \n",
    "\n",
    "\n",
    "Inputs = joblib.load(\"Inputs.pkl\")\n",
    "Model = joblib.load(\"Model.pkl\")\n",
    "\n",
    "def prediction(Airline, Source, Destination,Dep_Time, Arrival_Time,\n",
    "       Total_Stops, Additional_Info, Month_of_Journey, Day_of_Journey,\n",
    "       Duration_min):\n",
    "    test_df = pd.DataFrame(columns=Inputs)\n",
    "    test_df.at[0,\"Airline\"] = Airline\n",
    "    test_df.at[0,\"Source\"] = Source\n",
    "    test_df.at[0,\"Destination\"] = Destination\n",
    "    test_df.at[0,\"Dep_Time\"] = Dep_Time\n",
    "    test_df.at[0,\"Arrival_Time\"] = Arrival_Time\n",
    "    test_df.at[0,\"Total_Stops\"] = Total_Stops\n",
    "    test_df.at[0,\"Additional_Info\"] = Additional_Info\n",
    "    test_df.at[0,\"Month_of_Journey\"] = Month_of_Journey\n",
    "    test_df.at[0,\"Day_of_Journey\"] = Day_of_Journey\n",
    "    test_df.at[0,\"Duration_min\"] = Duration_min\n",
    "    st.dataframe(test_df)\n",
    "    result = Model.predict(test_df)[0]\n",
    "    return result\n",
    "\n",
    "\n",
    "def main():\n",
    "    st.title(\"Flight Price Prediction\")\n",
    "    Airline = st.selectbox(\"Airline\" , ['IndiGo', 'Air India', 'Jet Airways', 'SpiceJet',\n",
    "       'Multiple carriers', 'GoAir', 'Vistara', 'Air Asia', 'Trujet'])\n",
    "    Source = st.selectbox(\"Source\" , ['Banglore', 'Kolkata', 'Delhi', 'Chennai', 'Mumbai'])\n",
    "    Destination = st.selectbox(\"Destination\" , ['New Delhi', 'Banglore', 'Cochin', 'Kolkata', 'Delhi', 'Hyderabad'])\n",
    "    Dep_Time = st.slider(\"Dep_Time\" , min_value= 0 , max_value=23 , value=0,step=1)\n",
    "    Arrival_Time = st.slider(\"Arrival_Time\" , min_value= 0 , max_value=23 , value=0,step=1)\n",
    "    Total_Stops = st.selectbox(\"Total_Stops\" ,[0, 2, 1])\n",
    "    Additional_Info = st.selectbox(\"Additional_Info\" , ['No Info', 'In-flight meal not included', '1 Long layover',\n",
    "       'Change airports', 'Red-eye flight'])\n",
    "    Month_of_Journey = st.selectbox(\"Month_of_Journey\" ,['March', 'May', 'June', 'April'])\n",
    "    Day_of_Journey = st.selectbox(\"Day_of_Journey\" ,['Sunday', 'Wednesday', 'Friday', 'Monday', 'Tuesday', 'Saturday',\n",
    "       'Thursday'])\n",
    "    Duration_min = st.slider(\"Duration_min\" , min_value= 60 , max_value=1255 , value=0,step=1)\n",
    "    \n",
    "    \n",
    "    if st.button(\"predict\"):\n",
    "        \n",
    "        result = prediction(Airline, Source, Destination,Dep_Time, Arrival_Time,\n",
    "       Total_Stops, Additional_Info, Month_of_Journey, Day_of_Journey,\n",
    "       Duration_min)\n",
    "        st.success(f'Fair Price will be around Rs. {result}')\n",
    "        \n",
    "if __name__ == '__main__':\n",
    "        main()   "
   ]
  },
  {
   "cell_type": "code",
   "execution_count": 117,
   "id": "66c77db3",
   "metadata": {},
   "outputs": [
    {
     "name": "stdout",
     "output_type": "stream",
     "text": [
      "Note: you may need to restart the kernel to use updated packages.\n"
     ]
    },
    {
     "name": "stderr",
     "output_type": "stream",
     "text": [
      "Traceback (most recent call last):\n",
      "  File \"<frozen runpy>\", line 189, in _run_module_as_main\n",
      "  File \"<frozen runpy>\", line 148, in _get_module_details\n",
      "  File \"<frozen runpy>\", line 112, in _get_module_details\n",
      "  File \"C:\\Users\\Omar.Mohamed\\anaconda3\\envs\\omarenv\\Lib\\site-packages\\pip\\__init__.py\", line 14, in <module>\n",
      "    from pip.utils import get_installed_distributions, get_prog\n",
      "  File \"C:\\Users\\Omar.Mohamed\\anaconda3\\envs\\omarenv\\Lib\\site-packages\\pip\\utils\\__init__.py\", line 27, in <module>\n",
      "    from pip._vendor import pkg_resources\n",
      "  File \"C:\\Users\\Omar.Mohamed\\anaconda3\\envs\\omarenv\\Lib\\site-packages\\pip\\_vendor\\pkg_resources\\__init__.py\", line 71, in <module>\n",
      "    __import__('pip._vendor.packaging.requirements')\n",
      "  File \"C:\\Users\\Omar.Mohamed\\anaconda3\\envs\\omarenv\\Lib\\site-packages\\pip\\_vendor\\packaging\\requirements.py\", line 9, in <module>\n",
      "    from pip._vendor.pyparsing import (\n",
      "  File \"C:\\Users\\Omar.Mohamed\\anaconda3\\envs\\omarenv\\Lib\\site-packages\\pip\\_vendor\\pyparsing.py\", line 711, in <module>\n",
      "    collections.MutableMapping.register(ParseResults)\n",
      "    ^^^^^^^^^^^^^^^^^^^^^^^^^^\n",
      "AttributeError: module 'collections' has no attribute 'MutableMapping'\n"
     ]
    }
   ],
   "source": [
    "#pip install pipreqs"
   ]
  },
  {
   "cell_type": "code",
   "execution_count": 118,
   "id": "8903ce90",
   "metadata": {},
   "outputs": [
    {
     "name": "stdout",
     "output_type": "stream",
     "text": [
      "Note: you may need to restart the kernel to use updated packages.\n"
     ]
    },
    {
     "name": "stderr",
     "output_type": "stream",
     "text": [
      "Traceback (most recent call last):\n",
      "  File \"<frozen runpy>\", line 189, in _run_module_as_main\n",
      "  File \"<frozen runpy>\", line 148, in _get_module_details\n",
      "  File \"<frozen runpy>\", line 112, in _get_module_details\n",
      "  File \"C:\\Users\\Omar.Mohamed\\anaconda3\\envs\\omarenv\\Lib\\site-packages\\pip\\__init__.py\", line 14, in <module>\n",
      "    from pip.utils import get_installed_distributions, get_prog\n",
      "  File \"C:\\Users\\Omar.Mohamed\\anaconda3\\envs\\omarenv\\Lib\\site-packages\\pip\\utils\\__init__.py\", line 27, in <module>\n",
      "    from pip._vendor import pkg_resources\n",
      "  File \"C:\\Users\\Omar.Mohamed\\anaconda3\\envs\\omarenv\\Lib\\site-packages\\pip\\_vendor\\pkg_resources\\__init__.py\", line 71, in <module>\n",
      "    __import__('pip._vendor.packaging.requirements')\n",
      "  File \"C:\\Users\\Omar.Mohamed\\anaconda3\\envs\\omarenv\\Lib\\site-packages\\pip\\_vendor\\packaging\\requirements.py\", line 9, in <module>\n",
      "    from pip._vendor.pyparsing import (\n",
      "  File \"C:\\Users\\Omar.Mohamed\\anaconda3\\envs\\omarenv\\Lib\\site-packages\\pip\\_vendor\\pyparsing.py\", line 711, in <module>\n",
      "    collections.MutableMapping.register(ParseResults)\n",
      "    ^^^^^^^^^^^^^^^^^^^^^^^^^^\n",
      "AttributeError: module 'collections' has no attribute 'MutableMapping'\n"
     ]
    }
   ],
   "source": [
    "#pip install -r requirements.txt"
   ]
  },
  {
   "cell_type": "code",
   "execution_count": 119,
   "id": "96588233",
   "metadata": {},
   "outputs": [
    {
     "name": "stdout",
     "output_type": "stream",
     "text": [
      "Note: you may need to restart the kernel to use updated packages.\n"
     ]
    },
    {
     "name": "stderr",
     "output_type": "stream",
     "text": [
      "Traceback (most recent call last):\n",
      "  File \"<frozen runpy>\", line 189, in _run_module_as_main\n",
      "  File \"<frozen runpy>\", line 148, in _get_module_details\n",
      "  File \"<frozen runpy>\", line 112, in _get_module_details\n",
      "  File \"C:\\Users\\Omar.Mohamed\\anaconda3\\envs\\omarenv\\Lib\\site-packages\\pip\\__init__.py\", line 14, in <module>\n",
      "    from pip.utils import get_installed_distributions, get_prog\n",
      "  File \"C:\\Users\\Omar.Mohamed\\anaconda3\\envs\\omarenv\\Lib\\site-packages\\pip\\utils\\__init__.py\", line 27, in <module>\n",
      "    from pip._vendor import pkg_resources\n",
      "  File \"C:\\Users\\Omar.Mohamed\\anaconda3\\envs\\omarenv\\Lib\\site-packages\\pip\\_vendor\\pkg_resources\\__init__.py\", line 71, in <module>\n",
      "    __import__('pip._vendor.packaging.requirements')\n",
      "  File \"C:\\Users\\Omar.Mohamed\\anaconda3\\envs\\omarenv\\Lib\\site-packages\\pip\\_vendor\\packaging\\requirements.py\", line 9, in <module>\n",
      "    from pip._vendor.pyparsing import (\n",
      "  File \"C:\\Users\\Omar.Mohamed\\anaconda3\\envs\\omarenv\\Lib\\site-packages\\pip\\_vendor\\pyparsing.py\", line 711, in <module>\n",
      "    collections.MutableMapping.register(ParseResults)\n",
      "    ^^^^^^^^^^^^^^^^^^^^^^^^^^\n",
      "AttributeError: module 'collections' has no attribute 'MutableMapping'\n"
     ]
    }
   ],
   "source": [
    "#pip install git+https://github.com/pypa/pip@8df742e56db99c48f7ad85085501fe23456b419c"
   ]
  },
  {
   "cell_type": "code",
   "execution_count": 120,
   "id": "93f035f3",
   "metadata": {},
   "outputs": [
    {
     "name": "stdout",
     "output_type": "stream",
     "text": [
      "Note: you may need to restart the kernel to use updated packages.\n"
     ]
    },
    {
     "name": "stderr",
     "output_type": "stream",
     "text": [
      "Traceback (most recent call last):\n",
      "  File \"<frozen runpy>\", line 189, in _run_module_as_main\n",
      "  File \"<frozen runpy>\", line 148, in _get_module_details\n",
      "  File \"<frozen runpy>\", line 112, in _get_module_details\n",
      "  File \"C:\\Users\\Omar.Mohamed\\anaconda3\\envs\\omarenv\\Lib\\site-packages\\pip\\__init__.py\", line 14, in <module>\n",
      "    from pip.utils import get_installed_distributions, get_prog\n",
      "  File \"C:\\Users\\Omar.Mohamed\\anaconda3\\envs\\omarenv\\Lib\\site-packages\\pip\\utils\\__init__.py\", line 27, in <module>\n",
      "    from pip._vendor import pkg_resources\n",
      "  File \"C:\\Users\\Omar.Mohamed\\anaconda3\\envs\\omarenv\\Lib\\site-packages\\pip\\_vendor\\pkg_resources\\__init__.py\", line 71, in <module>\n",
      "    __import__('pip._vendor.packaging.requirements')\n",
      "  File \"C:\\Users\\Omar.Mohamed\\anaconda3\\envs\\omarenv\\Lib\\site-packages\\pip\\_vendor\\packaging\\requirements.py\", line 9, in <module>\n",
      "    from pip._vendor.pyparsing import (\n",
      "  File \"C:\\Users\\Omar.Mohamed\\anaconda3\\envs\\omarenv\\Lib\\site-packages\\pip\\_vendor\\pyparsing.py\", line 711, in <module>\n",
      "    collections.MutableMapping.register(ParseResults)\n",
      "    ^^^^^^^^^^^^^^^^^^^^^^^^^^\n",
      "AttributeError: module 'collections' has no attribute 'MutableMapping'\n"
     ]
    }
   ],
   "source": [
    "#pip install --ignore-requires-python black\n"
   ]
  },
  {
   "cell_type": "code",
   "execution_count": 121,
   "id": "eef542b8",
   "metadata": {},
   "outputs": [
    {
     "name": "stdout",
     "output_type": "stream",
     "text": [
      "Note: you may need to restart the kernel to use updated packages.\n"
     ]
    },
    {
     "name": "stderr",
     "output_type": "stream",
     "text": [
      "Traceback (most recent call last):\n",
      "  File \"<frozen runpy>\", line 189, in _run_module_as_main\n",
      "  File \"<frozen runpy>\", line 148, in _get_module_details\n",
      "  File \"<frozen runpy>\", line 112, in _get_module_details\n",
      "  File \"C:\\Users\\Omar.Mohamed\\anaconda3\\envs\\omarenv\\Lib\\site-packages\\pip\\__init__.py\", line 14, in <module>\n",
      "    from pip.utils import get_installed_distributions, get_prog\n",
      "  File \"C:\\Users\\Omar.Mohamed\\anaconda3\\envs\\omarenv\\Lib\\site-packages\\pip\\utils\\__init__.py\", line 27, in <module>\n",
      "    from pip._vendor import pkg_resources\n",
      "  File \"C:\\Users\\Omar.Mohamed\\anaconda3\\envs\\omarenv\\Lib\\site-packages\\pip\\_vendor\\pkg_resources\\__init__.py\", line 71, in <module>\n",
      "    __import__('pip._vendor.packaging.requirements')\n",
      "  File \"C:\\Users\\Omar.Mohamed\\anaconda3\\envs\\omarenv\\Lib\\site-packages\\pip\\_vendor\\packaging\\requirements.py\", line 9, in <module>\n",
      "    from pip._vendor.pyparsing import (\n",
      "  File \"C:\\Users\\Omar.Mohamed\\anaconda3\\envs\\omarenv\\Lib\\site-packages\\pip\\_vendor\\pyparsing.py\", line 711, in <module>\n",
      "    collections.MutableMapping.register(ParseResults)\n",
      "    ^^^^^^^^^^^^^^^^^^^^^^^^^^\n",
      "AttributeError: module 'collections' has no attribute 'MutableMapping'\n"
     ]
    }
   ],
   "source": [
    "pip install --upgrade scikit-learn==0.19.1"
   ]
  },
  {
   "cell_type": "code",
   "execution_count": 123,
   "id": "e83524e3",
   "metadata": {},
   "outputs": [
    {
     "name": "stderr",
     "output_type": "stream",
     "text": [
      "INFO: Successfully saved requirements file in ./requirements.txt\n"
     ]
    }
   ],
   "source": [
    "!pipreqs ./"
   ]
  },
  {
   "cell_type": "code",
   "execution_count": null,
   "id": "b47a39bd",
   "metadata": {},
   "outputs": [],
   "source": []
  }
 ],
 "metadata": {
  "kernelspec": {
   "display_name": "Python 3 (ipykernel)",
   "language": "python",
   "name": "python3"
  },
  "language_info": {
   "codemirror_mode": {
    "name": "ipython",
    "version": 3
   },
   "file_extension": ".py",
   "mimetype": "text/x-python",
   "name": "python",
   "nbconvert_exporter": "python",
   "pygments_lexer": "ipython3",
   "version": "3.11.5"
  }
 },
 "nbformat": 4,
 "nbformat_minor": 5
}
